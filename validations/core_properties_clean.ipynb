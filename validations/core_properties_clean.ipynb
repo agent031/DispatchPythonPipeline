{
 "cells": [
  {
   "cell_type": "code",
   "execution_count": 1,
   "metadata": {},
   "outputs": [],
   "source": [
    "import sys\n",
    "import numpy as np\n",
    "import matplotlib.pyplot as plt\n",
    "import tqdm\n",
    "from astropy.constants import m_p, M_sun\n",
    "import astropy.units as u\n",
    "\n",
    "sys.path.append('../pipeline_scripts/')\n",
    "from pipeline_main_nosink import pipeline_nosink\n",
    "from pipeline_2D_nosink import to_osyris_ivs\n",
    "from pipeline_main import sink_positions, serialize_directory, sinks, true_sinks\n",
    "\n",
    "core_data = {}\n",
    "initial_sn = [158, 222, 176, 212, 235, 341, 401, 403, 445]"
   ]
  },
  {
   "cell_type": "markdown",
   "metadata": {},
   "source": [
    "### - Mass\n",
    "### - Mass weighted average velocity\n",
    "### - RMS Velcotiy (also mass weighted)\n",
    "### - average magnetic field strength (volume weighted)\n",
    "### - rms fluctuating magnetic field strenght $$\n",
    "### - Net kinetic energy, magnetic energy, thermal energy, net angular moment\n",
    "\n",
    "## $$E_\\text{tot} = \\rho\\epsilon + \\frac{1}{2}\\rho v^2+\\frac{B^2}{8\\pi}$$"
   ]
  },
  {
   "cell_type": "markdown",
   "metadata": {},
   "source": [
    "### $$\\langle V_\\text{core}\\rangle= \\frac{\\sum\\;v_{c}m_{c}}{\\sum m_{c}}$$\n",
    "### $$v_\\text{rel} = (v_{c} - \\langle V_\\text{core}\\rangle)$$\n",
    "### $$V_\\text{RMS} = \\sqrt{\\frac{\\sum\\;v_\\text{rel}^2m_{c}}{\\sum m_{c}}}$$"
   ]
  },
  {
   "cell_type": "markdown",
   "metadata": {},
   "source": [
    "### $$\\langle B_\\text{core}\\rangle= \\frac{\\sum\\;B_{c}vol_{c}}{\\sum vol_{c}}$$\n",
    "### $$B_\\text{rel} = (B_{c} - \\langle B_\\text{core}\\rangle)$$\n",
    "### $$B_\\text{RMS} = \\sqrt{\\frac{\\sum\\;B_\\text{rel}^2vol_{c}}{\\sum vol_{c}}}$$"
   ]
  },
  {
   "cell_type": "markdown",
   "metadata": {},
   "source": [
    "### $$E_\\text{kin} = \\frac{1}{2}\\sum m_c \\cdot v_\\text{rel}^2$$\n",
    "### $$E_\\text{mag}  = \\frac{1}{8\\pi}\\sum B_c^2$$\n",
    "### $$E_\\text{therm} = \\sum P_{gas, c}\\cdot vol_c$$\n",
    "### $$E_\\text{rot} = \\sum\\frac{1}{2|r|^4}mr^2 (r\\times v_\\text{rel})^2$$"
   ]
  },
  {
   "cell_type": "code",
   "execution_count": 4,
   "metadata": {},
   "outputs": [
    {
     "name": "stdout",
     "output_type": "stream",
     "text": [
      "Initialising patch data\n"
     ]
    },
    {
     "name": "stderr",
     "output_type": "stream",
     "text": [
      "100%|██████████| 4756/4756 [00:23<00:00, 205.70it/s]\n"
     ]
    }
   ],
   "source": [
    "data = pipeline_nosink(snap = initial_sn[0], run = f'sink{6}fmr01', sink_pos = sink_positions[6])"
   ]
  },
  {
   "cell_type": "code",
   "execution_count": 168,
   "metadata": {},
   "outputs": [
    {
     "name": "stdout",
     "output_type": "stream",
     "text": [
      "Initialising patch data\n"
     ]
    },
    {
     "name": "stderr",
     "output_type": "stream",
     "text": [
      "100%|██████████| 4715/4715 [00:35<00:00, 133.66it/s]\n"
     ]
    }
   ],
   "source": [
    "data_14 = pipeline_nosink(snap = initial_sn[3], run = f'sink{14}fmr01', sink_pos = sink_positions[14])"
   ]
  },
  {
   "cell_type": "code",
   "execution_count": 246,
   "metadata": {},
   "outputs": [
    {
     "name": "stdout",
     "output_type": "stream",
     "text": [
      "Initialising patch data\n"
     ]
    },
    {
     "name": "stderr",
     "output_type": "stream",
     "text": [
      "100%|██████████| 4756/4756 [01:21<00:00, 58.46it/s]\n",
      "100%|██████████| 3043/3043 [01:03<00:00, 47.95it/s] \n"
     ]
    },
    {
     "name": "stdout",
     "output_type": "stream",
     "text": [
      "Initialising patch data\n"
     ]
    },
    {
     "name": "stderr",
     "output_type": "stream",
     "text": [
      "100%|██████████| 4165/4165 [00:47<00:00, 88.49it/s] \n",
      "100%|██████████| 2400/2400 [00:56<00:00, 42.79it/s] \n"
     ]
    },
    {
     "name": "stdout",
     "output_type": "stream",
     "text": [
      "Initialising patch data\n"
     ]
    },
    {
     "name": "stderr",
     "output_type": "stream",
     "text": [
      "100%|██████████| 4715/4715 [00:56<00:00, 84.09it/s] \n",
      "100%|██████████| 2764/2764 [00:53<00:00, 51.58it/s] \n"
     ]
    },
    {
     "name": "stdout",
     "output_type": "stream",
     "text": [
      "Initialising patch data\n"
     ]
    },
    {
     "name": "stderr",
     "output_type": "stream",
     "text": [
      "100%|██████████| 6212/6212 [01:05<00:00, 94.15it/s] \n",
      "100%|██████████| 4324/4324 [01:23<00:00, 51.48it/s] \n"
     ]
    },
    {
     "name": "stdout",
     "output_type": "stream",
     "text": [
      "Initialising patch data\n"
     ]
    },
    {
     "name": "stderr",
     "output_type": "stream",
     "text": [
      "100%|██████████| 6310/6310 [01:10<00:00, 90.09it/s] \n",
      "100%|██████████| 4454/4454 [01:25<00:00, 52.30it/s] \n"
     ]
    },
    {
     "name": "stdout",
     "output_type": "stream",
     "text": [
      "Initialising patch data\n"
     ]
    },
    {
     "name": "stderr",
     "output_type": "stream",
     "text": [
      "100%|██████████| 5026/5026 [00:59<00:00, 84.61it/s] \n",
      "100%|██████████| 3299/3299 [01:08<00:00, 47.82it/s] \n"
     ]
    },
    {
     "name": "stdout",
     "output_type": "stream",
     "text": [
      "Initialising patch data\n"
     ]
    },
    {
     "name": "stderr",
     "output_type": "stream",
     "text": [
      "100%|██████████| 3851/3851 [00:46<00:00, 83.25it/s] \n",
      "100%|██████████| 2067/2067 [00:34<00:00, 60.19it/s] \n"
     ]
    },
    {
     "name": "stdout",
     "output_type": "stream",
     "text": [
      "Initialising patch data\n"
     ]
    },
    {
     "name": "stderr",
     "output_type": "stream",
     "text": [
      "100%|██████████| 4855/4855 [00:53<00:00, 90.52it/s] \n",
      "100%|██████████| 3415/3415 [01:08<00:00, 50.07it/s] \n"
     ]
    },
    {
     "name": "stdout",
     "output_type": "stream",
     "text": [
      "Initialising patch data\n"
     ]
    },
    {
     "name": "stderr",
     "output_type": "stream",
     "text": [
      "100%|██████████| 4903/4903 [00:57<00:00, 84.57it/s] \n",
      "100%|██████████| 3029/3029 [00:57<00:00, 52.56it/s] \n"
     ]
    }
   ],
   "source": [
    "variables = ['d', 'vol', 'P']\n",
    "vectors = ['v', 'B', 'rel_xyz']\n",
    "core_characteristics = {sink: {} for sink in sinks}\n",
    "radius_au = 1e4 \n",
    "\n",
    "\n",
    "for i, sink in enumerate(sinks):\n",
    "    data = pipeline_nosink(snap = initial_sn[i], run = f'sink{sink}fmr01', sink_pos = sink_positions[sink])\n",
    "    patch_values = {key: [] for key in variables}\n",
    "    patch_vectors = {key: [] for key in vectors}\n",
    "    radius_code = radius_au / data.au_length\n",
    "\n",
    "    pp = [p for p in data.sn.patches if (p.dist_xyz < radius_code).any() and p.level > 5]\n",
    "    w= np.array([p.level for p in pp]).argsort()[::-1]\n",
    "    sorted_patches = [pp[w[i]] for i in range(len(pp))]\n",
    "\n",
    "        \n",
    "    for p in tqdm.tqdm(sorted_patches, disable = not data.loading_bar):\n",
    "            \n",
    "            p.v = np.concatenate([p.var(f'u'+axis)[None,...] for axis in ['x','y','z']], axis = 0)\n",
    "            p.B = np.concatenate([p.var(f'b'+axis)[None,...] for axis in ['x','y','z']], axis = 0)\n",
    "            p.vol = np.prod(p.ds) * np.ones((16,16,16))\n",
    "            \n",
    "            nbors = [data.sn.patchid[i] for i in p.nbor_ids if i in data.sn.patchid]\n",
    "            children = [ n for n in nbors if n.level == p.level + 1]\n",
    "            leafs = [n for n in children if ((n.position - p.position)**2).sum() < ((p.size)**2).sum()/12]\n",
    "            if len(leafs) == 8: continue\n",
    "            to_extract = p.dist_xyz < radius_code\n",
    "            for lp in leafs:\n",
    "                leaf_extent = np.vstack((lp.position - 0.5 * lp.size, lp.position + 0.5 * lp.size)).T\n",
    "                covered_bool = ~np.all((p.xyz > leaf_extent[:, 0, None, None, None]) & (p.xyz < leaf_extent[:, 1, None, None, None]), axis=0)\n",
    "                to_extract *= covered_bool\n",
    "            for i, ivs in enumerate(variables):\n",
    "                if hasattr(p, ivs):\n",
    "                    new_value = getattr(p, ivs)[to_extract].T               \n",
    "                else:\n",
    "                    new_value = p.var(ivs)[to_extract].T\n",
    "                patch_values[ivs].extend(new_value.tolist())\n",
    "\n",
    "            for i, ivs in enumerate(vectors):\n",
    "                new_vector = getattr(p, ivs)[:, to_extract].T\n",
    "                patch_vectors[ivs].extend(new_vector.tolist())\n",
    "\n",
    "    for key in patch_values:\n",
    "        patch_values[key] = np.array(patch_values[key])\n",
    "    for key in patch_vectors:\n",
    "        patch_vectors[key] = np.array(patch_vectors[key])\n",
    "\n",
    "    cell_mass = patch_values['d'] * patch_values['vol']\n",
    "    V_core = np.sum(patch_vectors['v'] * cell_mass[:,None], axis = 0)  / cell_mass.sum()\n",
    "    V_rms = (np.sum(np.linalg.norm(patch_vectors['v'] - V_core, axis = 1)**2 * cell_mass) / cell_mass.sum())**0.5\n",
    "\n",
    "    B_core = np.sum(patch_vectors['B'] * patch_values['vol'][:,None], axis = 0)  / patch_values['vol'].sum()\n",
    "    B_rms = (np.sum(np.linalg.norm(patch_vectors['B'] - B_core, axis = 1)**2 * patch_values['vol']) / patch_values['vol'].sum())**0.5\n",
    "\n",
    "    E_kin = (0.5 * cell_mass * np.linalg.norm(patch_vectors['v'] - V_core, axis = 1)**2).sum(); \n",
    "    E_mag = np.sum(np.linalg.norm(patch_vectors['B'], axis = 1)**2 * patch_values['vol'] / (8 * np.pi))\n",
    "    E_therm = np.sum(patch_values['P'] * patch_values['vol'])\n",
    "    E_rot = np.sum(0.5 * np.linalg.norm(patch_vectors['rel_xyz'], axis = 1)**(-2) * cell_mass \n",
    "                * np.linalg.norm(np.cross(patch_vectors['rel_xyz'], patch_vectors['v'] - V_core), axis = 1)**2)\n",
    "\n",
    "    core_characteristics[sink]['Mcore'] = cell_mass.sum() * data.msun_mass\n",
    "    core_characteristics[sink]['V_core'] = V_core * data.cms_velocity * 1e-5\n",
    "    core_characteristics[sink]['V_rms'] = V_rms * data.cms_velocity * 1e-5\n",
    "\n",
    "    core_characteristics[sink]['B_core'] = B_core * data.sn.scaling.b\n",
    "    core_characteristics[sink]['B_rms'] = B_rms * data.sn.scaling.b\n",
    "\n",
    "    core_characteristics[sink]['E_kin'] = E_kin * data.sn.scaling.e\n",
    "    core_characteristics[sink]['E_mag'] = E_mag * data.sn.scaling.e\n",
    "    core_characteristics[sink]['E_therm'] = E_therm * data.sn.scaling.e\n",
    "    core_characteristics[sink]['E_rot'] = E_rot * data.sn.scaling.e\n",
    "\n",
    "#serialize_directory(filename = 'core_data.pkl', directory = core_characteristics, store = True, folder = '/groups/astro/kxm508/codes/python_dispatch/validations/')"
   ]
  },
  {
   "cell_type": "code",
   "execution_count": 2,
   "metadata": {},
   "outputs": [],
   "source": [
    "core_characteristics = serialize_directory(filename = 'core_data.pkl', store = False, folder = '/groups/astro/kxm508/codes/python_dispatch/validations/')"
   ]
  },
  {
   "cell_type": "code",
   "execution_count": 20,
   "metadata": {},
   "outputs": [
    {
     "name": "stdout",
     "output_type": "stream",
     "text": [
      "Mcore 1.7082077414335544\n",
      "V_core [ 0.01384038 -0.0883597   0.16794702]\n",
      "V_rms 0.3465529695888759\n",
      "B_core [ 1.33795578e-05 -3.45513842e-05 -5.03957415e-05]\n",
      "B_rms 5.6814873520170404e-05\n",
      "E_kin 2.0402562349599195e+42\n",
      "E_mag 3.172532885480668e+41\n",
      "E_therm 1.1531325602497829e+42\n",
      "E_rot 1.0415286594190174e+42\n",
      "n 6.19e+04\n",
      "Avg_B 62.55031157290253\n",
      "B_rms 56.8148735201704\n"
     ]
    }
   ],
   "source": [
    "sink = 225\n",
    "for key in core_characteristics[sink].keys():\n",
    "    print(key, core_characteristics[sink][key])\n",
    "\n",
    "print('n', f\"{(core_characteristics[sink]['Mcore'] * M_sun / (4/3 * (1e4 * data.sn.cgs.au * 1e-5 * u.km)**3 *np.pi) / (m_p * 2.34)).to('1/cm3').value:1.2e}\")\n",
    "print('Avg_B', np.linalg.norm(core_characteristics[sink]['B_core'] * 1e6))\n",
    "print('B_rms', core_characteristics[sink]['B_rms'] * 1e6)\n"
   ]
  },
  {
   "cell_type": "code",
   "execution_count": null,
   "metadata": {},
   "outputs": [],
   "source": []
  }
 ],
 "metadata": {
  "kernelspec": {
   "display_name": "base",
   "language": "python",
   "name": "python3"
  },
  "language_info": {
   "codemirror_mode": {
    "name": "ipython",
    "version": 3
   },
   "file_extension": ".py",
   "mimetype": "text/x-python",
   "name": "python",
   "nbconvert_exporter": "python",
   "pygments_lexer": "ipython3",
   "version": "3.8.19"
  }
 },
 "nbformat": 4,
 "nbformat_minor": 2
}
