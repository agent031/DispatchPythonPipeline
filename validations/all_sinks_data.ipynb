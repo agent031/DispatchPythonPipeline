{
 "cells": [
  {
   "cell_type": "code",
   "execution_count": 2,
   "metadata": {},
   "outputs": [],
   "source": [
    "import numpy as np\n",
    "import tqdm \n",
    "import matplotlib.pyplot as plt\n",
    "from scipy.interpolate import griddata\n",
    "from matplotlib import colors\n",
    "import matplotlib as mpl \n",
    "import astropy.units as u\n",
    "from astropy.constants import G, M_sun\n",
    "import sys\n",
    "\n",
    "\n",
    "sys.path.append('../my_funcs/')\n",
    "from pipeline_main import pipeline\n",
    "\n",
    "# Set som plotting standards:\n",
    "font = {'family' : 'serif',\n",
    "        'weight' : 'normal',\n",
    "        'size'   : 16}\n",
    "mpl.rc('font', **font)"
   ]
  },
  {
   "cell_type": "code",
   "execution_count": 1,
   "metadata": {},
   "outputs": [
    {
     "data": {
      "text/plain": [
       "0.000390625"
      ]
     },
     "execution_count": 1,
     "metadata": {},
     "output_type": "execute_result"
    }
   ],
   "source": [
    "0.1 * 0.5**8"
   ]
  },
  {
   "cell_type": "code",
   "execution_count": 3,
   "metadata": {},
   "outputs": [
    {
     "name": "stdout",
     "output_type": "stream",
     "text": [
      "Initialising patch data\n",
      "Assigning relative cartesian velocities and coordinates to all cells\n",
      "Assigning masses to all cells\n",
      "Calculating adiabatic index γ and pressure (polytropic) for all cells\n"
     ]
    },
    {
     "name": "stderr",
     "output_type": "stream",
     "text": [
      "100%|██████████| 4756/4756 [00:25<00:00, 186.42it/s]\n"
     ]
    },
    {
     "name": "stdout",
     "output_type": "stream",
     "text": [
      "Initialising patch data\n",
      "Assigning relative cartesian velocities and coordinates to all cells\n",
      "Assigning masses to all cells\n",
      "Calculating adiabatic index γ and pressure (polytropic) for all cells\n"
     ]
    },
    {
     "name": "stderr",
     "output_type": "stream",
     "text": [
      "100%|██████████| 4715/4715 [00:23<00:00, 200.45it/s]\n"
     ]
    },
    {
     "name": "stdout",
     "output_type": "stream",
     "text": [
      "Initialising patch data\n",
      "Assigning relative cartesian velocities and coordinates to all cells\n",
      "Assigning masses to all cells\n",
      "Calculating adiabatic index γ and pressure (polytropic) for all cells\n"
     ]
    },
    {
     "name": "stderr",
     "output_type": "stream",
     "text": [
      "100%|██████████| 6212/6212 [00:57<00:00, 107.21it/s]\n"
     ]
    },
    {
     "name": "stdout",
     "output_type": "stream",
     "text": [
      "Initialising patch data\n",
      "Assigning relative cartesian velocities and coordinates to all cells\n",
      "Assigning masses to all cells\n",
      "Calculating adiabatic index γ and pressure (polytropic) for all cells\n"
     ]
    },
    {
     "name": "stderr",
     "output_type": "stream",
     "text": [
      "100%|██████████| 6310/6310 [00:29<00:00, 213.78it/s]\n"
     ]
    },
    {
     "name": "stdout",
     "output_type": "stream",
     "text": [
      "Initialising patch data\n",
      "Assigning relative cartesian velocities and coordinates to all cells\n",
      "Assigning masses to all cells\n",
      "Calculating adiabatic index γ and pressure (polytropic) for all cells\n"
     ]
    },
    {
     "name": "stderr",
     "output_type": "stream",
     "text": [
      "100%|██████████| 5026/5026 [00:23<00:00, 217.09it/s]\n"
     ]
    },
    {
     "name": "stdout",
     "output_type": "stream",
     "text": [
      "Initialising patch data\n",
      "Assigning relative cartesian velocities and coordinates to all cells\n",
      "Assigning masses to all cells\n",
      "Calculating adiabatic index γ and pressure (polytropic) for all cells\n"
     ]
    },
    {
     "name": "stderr",
     "output_type": "stream",
     "text": [
      "100%|██████████| 3851/3851 [00:18<00:00, 205.55it/s]\n"
     ]
    },
    {
     "name": "stdout",
     "output_type": "stream",
     "text": [
      "Initialising patch data\n",
      "Assigning relative cartesian velocities and coordinates to all cells\n",
      "Assigning masses to all cells\n",
      "Calculating adiabatic index γ and pressure (polytropic) for all cells\n"
     ]
    },
    {
     "name": "stderr",
     "output_type": "stream",
     "text": [
      "100%|██████████| 4855/4855 [00:13<00:00, 361.38it/s]\n"
     ]
    },
    {
     "name": "stdout",
     "output_type": "stream",
     "text": [
      "Initialising patch data\n",
      "Assigning relative cartesian velocities and coordinates to all cells\n",
      "Assigning masses to all cells\n",
      "Calculating adiabatic index γ and pressure (polytropic) for all cells\n"
     ]
    },
    {
     "name": "stderr",
     "output_type": "stream",
     "text": [
      "100%|██████████| 4903/4903 [00:25<00:00, 195.70it/s]\n"
     ]
    },
    {
     "name": "stdout",
     "output_type": "stream",
     "text": [
      "Initialising patch data\n",
      "Assigning relative cartesian velocities and coordinates to all cells\n",
      "Assigning masses to all cells\n",
      "Calculating adiabatic index γ and pressure (polytropic) for all cells\n"
     ]
    },
    {
     "name": "stderr",
     "output_type": "stream",
     "text": [
      "100%|██████████| 4165/4165 [00:19<00:00, 216.90it/s]\n"
     ]
    }
   ],
   "source": [
    "out_time = 2.3e-5\n",
    "\n",
    "data_6 = pipeline(snap = 159, run = 'sink6core01', sink_id=6)\n",
    "data_13 = pipeline(snap = 177, run = 'sink13core01', sink_id=13)\n",
    "data_24 = pipeline(snap = 213, run = 'sink24core02', sink_id=24)\n",
    "data_80 = pipeline(snap = 236, run = 'sink80core01', sink_id=80)\n",
    "data_122 = pipeline(snap = 343, run = 'sink122core02', sink_id=122)\n",
    "data_161 = pipeline(snap = 402, run = 'sink161core01', sink_id=161)\n",
    "data_178 = pipeline(snap = 404, run = 'sink178core03', sink_id=178)\n",
    "data_225 = pipeline(snap = 446, run = 'sink225core03', sink_id=225)\n",
    "data_o13 = pipeline(snap = 223, run = 'goodold13', sink_id=13)"
   ]
  },
  {
   "cell_type": "code",
   "execution_count": 4,
   "metadata": {},
   "outputs": [],
   "source": [
    "sink_data = [data_6, data_13, data_24, data_80, data_122, data_161, data_178, data_225, data_o13]\n",
    "sink_ids = ['6', '13', '24', '80', '122','161', '180', '225', 'old13'];\n",
    "sink_i_time = np.array([data.time for data in sink_data]) + 500"
   ]
  },
  {
   "cell_type": "code",
   "execution_count": 5,
   "metadata": {},
   "outputs": [],
   "source": [
    "global_t = np.round((sink_i_time - sink_i_time[0]) * 1e-6, 3)"
   ]
  },
  {
   "cell_type": "code",
   "execution_count": 6,
   "metadata": {},
   "outputs": [
    {
     "data": {
      "text/plain": [
       "22.652"
      ]
     },
     "execution_count": 6,
     "metadata": {},
     "output_type": "execute_result"
    }
   ],
   "source": [
    "np.round(sink_i_time[0] * 1e-6,3)"
   ]
  },
  {
   "cell_type": "code",
   "execution_count": 7,
   "metadata": {},
   "outputs": [
    {
     "data": {
      "text/plain": [
       "0.414"
      ]
     },
     "execution_count": 7,
     "metadata": {},
     "output_type": "execute_result"
    }
   ],
   "source": [
    "np.median(np.round((sink_i_time - sink_i_time[0]) * 1e-6, 3))"
   ]
  },
  {
   "cell_type": "code",
   "execution_count": 8,
   "metadata": {},
   "outputs": [
    {
     "data": {
      "text/plain": [
       "Text(0, 0.5, 'Global time [Myr]')"
      ]
     },
     "execution_count": 8,
     "metadata": {},
     "output_type": "execute_result"
    },
    {
     "data": {
      "image/png": "[encoded data removed]",
      "text/plain": [
       "<Figure size 720x432 with 1 Axes>"
      ]
     },
     "metadata": {
      "needs_background": "light"
     },
     "output_type": "display_data"
    }
   ],
   "source": [
    "plt.figure(figsize = (10,6))\n",
    "plt.plot(global_t, 'o')\n",
    "plt.xticks(ticks = np.arange(len(global_t)), labels = sink_ids)\n",
    "plt.ylabel('Global time [Myr]')"
   ]
  },
  {
   "cell_type": "code",
   "execution_count": 9,
   "metadata": {},
   "outputs": [
    {
     "ename": "NameError",
     "evalue": "name 'data' is not defined",
     "output_type": "error",
     "traceback": [
      "\u001b[0;31m---------------------------------------------------------------------------\u001b[0m",
      "\u001b[0;31mNameError\u001b[0m                                 Traceback (most recent call last)",
      "\u001b[0;32m/tmp/ipykernel_1831945/1984855381.py\u001b[0m in \u001b[0;36m<module>\u001b[0;34m\u001b[0m\n\u001b[0;32m----> 1\u001b[0;31m \u001b[0;36m0.5\u001b[0m\u001b[0;34m**\u001b[0m\u001b[0;36m7\u001b[0m \u001b[0;34m*\u001b[0m \u001b[0mdata\u001b[0m\u001b[0;34m.\u001b[0m\u001b[0mau_length\u001b[0m\u001b[0;34m\u001b[0m\u001b[0;34m\u001b[0m\u001b[0m\n\u001b[0m",
      "\u001b[0;31mNameError\u001b[0m: name 'data' is not defined"
     ]
    }
   ],
   "source": [
    "0.5**7 * data.au_length"
   ]
  },
  {
   "cell_type": "code",
   "execution_count": null,
   "metadata": {},
   "outputs": [],
   "source": []
  }
 ],
 "metadata": {
  "kernelspec": {
   "display_name": "base",
   "language": "python",
   "name": "python3"
  },
  "language_info": {
   "codemirror_mode": {
    "name": "ipython",
    "version": 3
   },
   "file_extension": ".py",
   "mimetype": "text/x-python",
   "name": "python",
   "nbconvert_exporter": "python",
   "pygments_lexer": "ipython3",
   "version": "3.8.11"
  }
 },
 "nbformat": 4,
 "nbformat_minor": 2
}
