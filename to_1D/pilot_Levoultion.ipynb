{
 "cells": [
  {
   "cell_type": "code",
   "execution_count": 28,
   "metadata": {},
   "outputs": [],
   "source": [
    "import sys\n",
    "import numpy as np\n",
    "import matplotlib.pyplot as plt\n",
    "import matplotlib as mpl\n",
    "from astropy.constants import M_sun, G\n",
    "import astropy.units as u\n",
    "import tqdm\n",
    "from matplotlib import colors \n",
    "from scipy.integrate import simps\n",
    "from scipy.interpolate import interp1d\n",
    "\n",
    "sys.path.append('../my_funcs/')\n",
    "from pipeline_main import pipeline, calc_ang\n",
    "from pipeline_1D import *\n",
    "\n",
    "\n",
    "# Set som plotting standards:\n",
    "font = {'family' : 'serif',\n",
    "        'weight' : 'normal',\n",
    "        'size'   : 16}\n",
    "mpl.rc('font', **font)"
   ]
  },
  {
   "cell_type": "code",
   "execution_count": 29,
   "metadata": {},
   "outputs": [
    {
     "name": "stdout",
     "output_type": "stream",
     "text": [
      "Initialising patch data\n",
      "Assigning relative cartesian velocities and coordinates to all cells\n",
      "Assigning masses to all cells\n",
      "Calculating adiabatic index γ and pressure (polytropic) for all cells\n"
     ]
    },
    {
     "name": "stderr",
     "output_type": "stream",
     "text": [
      "100%|██████████| 4903/4903 [00:06<00:00, 800.23it/s]\n"
     ]
    },
    {
     "name": "stdout",
     "output_type": "stream",
     "text": [
      "Initialising patch data\n",
      "Assigning relative cartesian velocities and coordinates to all cells\n",
      "Assigning masses to all cells\n",
      "Calculating adiabatic index γ and pressure (polytropic) for all cells\n"
     ]
    },
    {
     "name": "stderr",
     "output_type": "stream",
     "text": [
      "100%|██████████| 4903/4903 [00:05<00:00, 834.74it/s]\n"
     ]
    },
    {
     "name": "stdout",
     "output_type": "stream",
     "text": [
      "Converged mean angular momentum vector after 0 iteration(s)\n"
     ]
    }
   ],
   "source": [
    "datai = pipeline(snap = 446, run = 'sink225core03', sink_id=225)\n",
    "data = pipeline(snap = 524, run = 'sink225core03', sink_id=225)\n",
    "data.recalc_L()"
   ]
  },
  {
   "cell_type": "code",
   "execution_count": 30,
   "metadata": {},
   "outputs": [
    {
     "name": "stdout",
     "output_type": "stream",
     "text": [
      "Looping through patches to extract densities and heights\n",
      "Fitting surface density and scaleheight in each radial bin\n"
     ]
    },
    {
     "name": "stderr",
     "output_type": "stream",
     "text": [
      "100%|██████████| 99/99 [00:03<00:00, 26.78it/s] \n"
     ]
    }
   ],
   "source": [
    "data.to_1D(plot = False, r_in= 5, r_out = 100, Nr = 100)"
   ]
  },
  {
   "cell_type": "code",
   "execution_count": 31,
   "metadata": {},
   "outputs": [
    {
     "name": "stdout",
     "output_type": "stream",
     "text": [
      "Extracting azimuthal, angular velocities and adiabatic index data from patches into 1D\n"
     ]
    },
    {
     "name": "stderr",
     "output_type": "stream",
     "text": [
      "100%|██████████| 1803/1803 [00:04<00:00, 435.53it/s]"
     ]
    },
    {
     "name": "stdout",
     "output_type": "stream",
     "text": [
      "Σ = g/cm2\n",
      "φ = rad\n",
      "H = au\n",
      "vφ = cm/s\n",
      "Ω = 1/s\n",
      "cs = cm/s\n",
      "Q = dimensionless\n",
      "B = Gauss\n",
      "T = K\n"
     ]
    },
    {
     "name": "stderr",
     "output_type": "stream",
     "text": [
      "\n"
     ]
    }
   ],
   "source": [
    "data.get_1D_param(Ω = True)"
   ]
  },
  {
   "cell_type": "markdown",
   "metadata": {},
   "source": [
    "# $$L_{tot} = 2\\pi\\int\\Sigma v_\\phi r^2 dr$$ 2 orders of magnitude higher\n",
    "# $$L_{tot} = \\sum_i r_i\\times m_i v_i$$"
   ]
  },
  {
   "cell_type": "code",
   "execution_count": 32,
   "metadata": {},
   "outputs": [],
   "source": [
    "H = data.H_1D[:,0]\n",
    "r = data.r_1D * data.sn.scaling.l\n",
    "Σ = data.Σ_1D[:,0]\n",
    "v_φ = data.vφ_1D[:,0]\n",
    "v_kep = data.kepVφ_1D"
   ]
  },
  {
   "cell_type": "code",
   "execution_count": 33,
   "metadata": {},
   "outputs": [
    {
     "data": {
      "text/plain": [
       "2.1102584358666373e+51"
      ]
     },
     "execution_count": 33,
     "metadata": {},
     "output_type": "execute_result"
    }
   ],
   "source": [
    "simps(2 * np.pi * Σ * v_φ * r**2, r) "
   ]
  },
  {
   "cell_type": "code",
   "execution_count": 34,
   "metadata": {},
   "outputs": [
    {
     "data": {
      "text/plain": [
       "2.5266995507714567e+51"
      ]
     },
     "execution_count": 34,
     "metadata": {},
     "output_type": "execute_result"
    }
   ],
   "source": [
    "simps(2 * np.pi * Σ * v_kep * r**2, r) "
   ]
  },
  {
   "cell_type": "code",
   "execution_count": 35,
   "metadata": {},
   "outputs": [
    {
     "data": {
      "text/plain": [
       "0.8351837618454989"
      ]
     },
     "execution_count": 35,
     "metadata": {},
     "output_type": "execute_result"
    }
   ],
   "source": [
    "simps(2 * np.pi * Σ * v_φ * r**2, r) * data.cgs_AM / (simps(2 * np.pi * Σ * v_kep * r**2, r) * data.cgs_AM)"
   ]
  },
  {
   "cell_type": "code",
   "execution_count": 36,
   "metadata": {},
   "outputs": [],
   "source": [
    "H_func = interp1d(r, H / data.au_length, fill_value='extrapolate')"
   ]
  },
  {
   "cell_type": "code",
   "execution_count": 37,
   "metadata": {},
   "outputs": [],
   "source": [
    "for p in data.sorted_patches1D:\n",
    "    if p.id == 1853:break"
   ]
  },
  {
   "cell_type": "code",
   "execution_count": 38,
   "metadata": {},
   "outputs": [],
   "source": [
    "L_new = np.zeros(3)\n",
    "for p in data.sorted_patches1D:\n",
    "        nbors = [data.sn.patchid[i] for i in p.nbor_ids if i in data.sn.patchid]\n",
    "        children = [ n for n in nbors if n.level == p.level + 1]\n",
    "        leafs = [n for n in children if ((n.position - p.position)**2).sum() < ((p.size)**2).sum()/12]   \n",
    "        if len(leafs) == 8: continue\n",
    "\n",
    "        to_extract = (p.cyl_R > 3 / data.au_length) & (p.cyl_R < 100 / data.au_length) & (3 *H_func(p.cyl_R) > abs(p.cyl_z)) #### CHANGE 3 AND 100!!!!############\n",
    "\n",
    "        if np.sum(to_extract) == 0: continue\n",
    "        for lp in leafs: \n",
    "            leaf_extent = np.vstack((lp.position - 0.5 * lp.size, lp.position + 0.5 * lp.size)).T\n",
    "            covered_bool = ~np.all((p.xyz > leaf_extent[:, 0, None, None, None]) & (p.xyz < leaf_extent[:, 1, None, None, None]), axis=0)\n",
    "            to_extract *= covered_bool \n",
    "\n",
    "        L_new += np.cross(p.rel_xyz, (p.vel_xyz * p.m) , axisa=0, axisb=0, axisc=0)[:,to_extract].sum(axis = 1)\n",
    "        \n",
    "        \n",
    "total_L = np.linalg.norm(L_new)\n"
   ]
  },
  {
   "cell_type": "code",
   "execution_count": 39,
   "metadata": {},
   "outputs": [
    {
     "name": "stderr",
     "output_type": "stream",
     "text": [
      "/tmp/ipykernel_3521271/3116311928.py:1: RuntimeWarning: invalid value encountered in true_divide\n",
      "  L_new /total_L, data.L\n"
     ]
    },
    {
     "data": {
      "text/plain": [
       "(array([nan, nan, nan]), array([-0.26901008,  0.64655394,  0.71386384]))"
      ]
     },
     "execution_count": 39,
     "metadata": {},
     "output_type": "execute_result"
    }
   ],
   "source": [
    "L_new /total_L, data.L"
   ]
  },
  {
   "cell_type": "code",
   "execution_count": 40,
   "metadata": {},
   "outputs": [
    {
     "name": "stderr",
     "output_type": "stream",
     "text": [
      "/tmp/ipykernel_3521271/3338556159.py:1: RuntimeWarning: invalid value encountered in true_divide\n",
      "  calc_ang(L_new /total_L, data.L)\n"
     ]
    },
    {
     "data": {
      "text/plain": [
       "nan"
      ]
     },
     "execution_count": 40,
     "metadata": {},
     "output_type": "execute_result"
    }
   ],
   "source": [
    "calc_ang(L_new /total_L, data.L)"
   ]
  },
  {
   "cell_type": "code",
   "execution_count": 41,
   "metadata": {},
   "outputs": [
    {
     "data": {
      "text/plain": [
       "(1.8204138608098663e+52, 0.0)"
      ]
     },
     "execution_count": 41,
     "metadata": {},
     "output_type": "execute_result"
    }
   ],
   "source": [
    "data.total_L * data.cgs_AM, total_L * data.cgs_AM"
   ]
  },
  {
   "cell_type": "code",
   "execution_count": 42,
   "metadata": {},
   "outputs": [
    {
     "data": {
      "text/plain": [
       "(array([0., 0., 0.]), array([-0.26901008,  0.64655394,  0.71386384]))"
      ]
     },
     "execution_count": 42,
     "metadata": {},
     "output_type": "execute_result"
    }
   ],
   "source": [
    "L_new, data.L"
   ]
  },
  {
   "cell_type": "markdown",
   "metadata": {},
   "source": [
    "# Now doing it to see the time evolution of $L/L_{kep}$"
   ]
  },
  {
   "cell_type": "code",
   "execution_count": 48,
   "metadata": {},
   "outputs": [],
   "source": [
    "snapshots = np.arange(datai.sn.iout, data.sn.iout)\n",
    "dict_to_save = {key: np.zeros_like(snapshots, dtype=float) for key in ['disk_size', 'L_tot', 'L_kep', 'time']}"
   ]
  },
  {
   "cell_type": "code",
   "execution_count": 52,
   "metadata": {},
   "outputs": [
    {
     "name": "stderr",
     "output_type": "stream",
     "text": [
      "  0%|          | 0/78 [00:00<?, ?it/s]"
     ]
    },
    {
     "name": "stdout",
     "output_type": "stream",
     "text": [
      "446\n"
     ]
    },
    {
     "name": "stderr",
     "output_type": "stream",
     "text": [
      "  0%|          | 0/78 [00:33<?, ?it/s]\n"
     ]
    }
   ],
   "source": [
    "dict_to_save = {key: np.zeros_like(snapshots) for key in ['disk_size', 'L_tot', 'L_kep', 'time']}\n",
    "for snaps_j in tqdm.tqdm(range(len(snapshots))):\n",
    "\n",
    "    data_loop = pipeline(snap = datai.sn.iout + snaps_j , run = 'sink225core03', sink_id = 225, loading_bar = False, verbose = 0)\n",
    "    data_loop.recalc_L(verbose = 0)\n",
    "    data_loop.calc_disksize(verbose=0, plot = False)\n",
    "\n",
    "    dict_to_save['disk_size'][snaps_j] = np.copy(data_loop.disk_size)\n",
    "\n",
    "    data_loop.to_1D(plot = False, r_in= 5, r_out = 100, Nr = 100, verbose = 0)\n",
    "    data_loop.get_1D_param(Ω = True, verbose = 0, get_units=False)\n",
    "    H = data_loop.H_1D[:,0]\n",
    "    r = data_loop.r_1D * data.sn.scaling.l\n",
    "    Σ = data_loop.Σ_1D[:,0]\n",
    "    v_φ = data_loop.vφ_1D[:,0]\n",
    "    v_kep = data_loop.kepVφ_1D\n",
    "\n",
    "    L_tot = simps(2 * np.pi * Σ * v_φ * r**2, r)\n",
    "    L_kep = simps(2 * np.pi * Σ * v_kep * r**2, r)  \n",
    "    dict_to_save['L_tot'][snaps_j] = L_tot * 1e-50\n",
    "    dict_to_save['L_kep'][snaps_j] = L_kep * 1e-50\n",
    "    dict_to_save['time'][snaps_j] = data_loop.time - datai.time + 500\n"
   ]
  },
  {
   "cell_type": "code",
   "execution_count": 47,
   "metadata": {},
   "outputs": [
    {
     "data": {
      "text/plain": [
       "numpy.float64"
      ]
     },
     "execution_count": 47,
     "metadata": {},
     "output_type": "execute_result"
    }
   ],
   "source": [
    "type(L_tot)"
   ]
  },
  {
   "cell_type": "code",
   "execution_count": 51,
   "metadata": {},
   "outputs": [
    {
     "ename": "OverflowError",
     "evalue": "Python int too large to convert to C long",
     "output_type": "error",
     "traceback": [
      "\u001b[0;31m---------------------------------------------------------------------------\u001b[0m",
      "\u001b[0;31mOverflowError\u001b[0m                             Traceback (most recent call last)",
      "\u001b[0;32m/tmp/ipykernel_3521271/3165826729.py\u001b[0m in \u001b[0;36m<module>\u001b[0;34m\u001b[0m\n\u001b[0;32m----> 1\u001b[0;31m \u001b[0mdict_to_save\u001b[0m\u001b[0;34m[\u001b[0m\u001b[0;34m'L_tot'\u001b[0m\u001b[0;34m]\u001b[0m\u001b[0;34m[\u001b[0m\u001b[0;36m0\u001b[0m\u001b[0;34m]\u001b[0m \u001b[0;34m=\u001b[0m \u001b[0mL_tot\u001b[0m\u001b[0;34m\u001b[0m\u001b[0;34m\u001b[0m\u001b[0m\n\u001b[0m",
      "\u001b[0;31mOverflowError\u001b[0m: Python int too large to convert to C long"
     ]
    }
   ],
   "source": [
    "dict_to_save['L_tot'][0] = L_tot"
   ]
  },
  {
   "cell_type": "code",
   "execution_count": null,
   "metadata": {},
   "outputs": [
    {
     "data": {
      "text/plain": [
       "-2.5465934746291788e+51"
      ]
     },
     "execution_count": 26,
     "metadata": {},
     "output_type": "execute_result"
    }
   ],
   "source": [
    "simps(2 * np.pi * Σ * v_kep * r**2, r) "
   ]
  },
  {
   "cell_type": "code",
   "execution_count": null,
   "metadata": {},
   "outputs": [
    {
     "data": {
      "text/plain": [
       "array([ 2.10663408e+01,  3.66559877e+03, -2.42247309e+01, -1.97428258e+01,\n",
       "       -1.45992185e+04,  3.27498070e+01,  9.06915427e+01,  1.97304025e+04,\n",
       "        3.66182784e+01,  2.95543984e+01,  2.74839793e+01,  3.42396480e+01,\n",
       "        3.11352634e+01,  8.53324918e+03,  6.36789378e+03,  2.62755435e+01,\n",
       "        2.10572645e+01,  5.89836952e+03, -3.64444249e+01, -2.37988061e+01,\n",
       "       -1.85589642e+01, -2.07605084e+01, -1.73364491e+01, -1.93894929e+01,\n",
       "       -1.67388030e+01, -1.79290156e+01, -1.56222098e+01, -1.63267580e+01,\n",
       "       -1.63297579e+01, -1.55436569e+01, -1.58933542e+01, -1.50370756e+01,\n",
       "       -1.66313529e+01, -1.57759052e+01, -1.62182317e+01, -1.58326844e+01,\n",
       "       -1.85381089e+01, -1.67128115e+01, -1.65550053e+01, -1.74442091e+01,\n",
       "       -1.54988275e+01, -1.52323056e+01, -1.43777044e+01, -1.36948703e+01,\n",
       "       -1.33470441e+01, -1.24523459e+01, -1.18800894e+01, -1.14827721e+01,\n",
       "       -1.09284846e+01, -1.04892765e+01, -1.01364951e+01, -9.90084337e+00,\n",
       "       -1.00294301e+01, -1.01604650e+01, -1.07637422e+01, -1.15857187e+01,\n",
       "       -1.25112119e+01, -1.32730563e+01, -1.37878270e+01, -1.45976631e+01,\n",
       "       -1.53446944e+01, -1.57109177e+01, -1.59026253e+01, -1.58006911e+01,\n",
       "       -1.55810506e+01, -1.49974575e+01, -1.41045162e+01, -1.33841134e+01,\n",
       "       -1.30181407e+01, -1.26506204e+01, -1.20820175e+01, -1.13456464e+01,\n",
       "       -1.06530240e+01, -1.01133232e+01, -9.62108578e+00, -9.11381121e+00,\n",
       "       -8.91037186e+00, -8.79304455e+00, -8.71257702e+00, -8.36924428e+00,\n",
       "       -8.03444183e+00, -8.07051819e+00, -8.21358249e+00, -8.36781836e+00,\n",
       "       -8.62372706e+00, -9.08459654e+00, -9.49044567e+00, -9.56402696e+00,\n",
       "       -9.28382968e+00, -8.89478223e+00, -8.65182828e+00, -8.31780173e+00,\n",
       "       -7.83469919e+00, -7.48005645e+00, -7.21691667e+00, -6.82555079e+00,\n",
       "       -6.26038722e+00, -5.63034053e+00, -5.08454398e+00])"
      ]
     },
     "execution_count": 27,
     "metadata": {},
     "output_type": "execute_result"
    }
   ],
   "source": [
    "Σ"
   ]
  },
  {
   "cell_type": "code",
   "execution_count": null,
   "metadata": {},
   "outputs": [
    {
     "data": {
      "text/plain": [
       "nan"
      ]
     },
     "execution_count": 24,
     "metadata": {},
     "output_type": "execute_result"
    }
   ],
   "source": [
    "simps(2 * np.pi * Σ * v_φ * r**2, r)"
   ]
  },
  {
   "cell_type": "code",
   "execution_count": null,
   "metadata": {},
   "outputs": [
    {
     "data": {
      "text/plain": [
       "array([500,   0,   0,   0,   0,   0,   0,   0,   0,   0,   0,   0,   0,\n",
       "         0,   0,   0,   0,   0,   0,   0,   0,   0,   0,   0,   0,   0,\n",
       "         0,   0,   0,   0,   0,   0,   0,   0,   0,   0,   0,   0,   0,\n",
       "         0,   0,   0,   0,   0,   0,   0,   0,   0,   0,   0,   0,   0,\n",
       "         0,   0,   0,   0,   0,   0,   0,   0,   0,   0,   0,   0,   0,\n",
       "         0,   0,   0,   0,   0,   0,   0,   0,   0,   0,   0,   0,   0])"
      ]
     },
     "execution_count": 18,
     "metadata": {},
     "output_type": "execute_result"
    }
   ],
   "source": [
    "np.savetxt('data_for_plotting/L_evo.txt', L_evo)"
   ]
  },
  {
   "cell_type": "code",
   "execution_count": null,
   "metadata": {},
   "outputs": [
    {
     "data": {
      "text/plain": [
       "array([446, 447, 448, 449, 450, 451, 452, 453, 454, 455, 456, 457, 458,\n",
       "       459, 460, 461, 462, 463, 464, 465, 466, 467, 468, 469, 470, 471,\n",
       "       472, 473, 474, 475, 476, 477, 478, 479, 480, 481, 482, 483, 484,\n",
       "       485, 486, 487, 488, 489, 490, 491, 492, 493, 494, 495, 496, 497,\n",
       "       498, 499, 500, 501, 502, 503, 504, 505, 506, 507, 508, 509, 510,\n",
       "       511, 512, 513, 514, 515, 516, 517, 518, 519, 520, 521, 522, 523])"
      ]
     },
     "execution_count": 19,
     "metadata": {},
     "output_type": "execute_result"
    }
   ],
   "source": [
    "snapshots"
   ]
  },
  {
   "cell_type": "code",
   "execution_count": null,
   "metadata": {},
   "outputs": [],
   "source": []
  }
 ],
 "metadata": {
  "kernelspec": {
   "display_name": "base",
   "language": "python",
   "name": "python3"
  },
  "language_info": {
   "codemirror_mode": {
    "name": "ipython",
    "version": 3
   },
   "file_extension": ".py",
   "mimetype": "text/x-python",
   "name": "python",
   "nbconvert_exporter": "python",
   "pygments_lexer": "ipython3",
   "version": "3.8.11"
  }
 },
 "nbformat": 4,
 "nbformat_minor": 2
}
