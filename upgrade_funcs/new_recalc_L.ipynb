{
 "cells": [
  {
   "cell_type": "code",
   "execution_count": 1,
   "metadata": {},
   "outputs": [],
   "source": [
    "import numpy as np\n",
    "import tqdm \n",
    "import matplotlib.pyplot as plt\n",
    "from scipy.interpolate import griddata\n",
    "from matplotlib import colors\n",
    "import matplotlib as mpl \n",
    "import astropy.units as u\n",
    "from astropy.constants import G, M_sun\n",
    "import sys\n",
    "import os\n",
    "\n",
    "sys.path.append('../my_funcs/')\n",
    "from pipeline_main import pipeline, dist, calc_ang\n"
   ]
  },
  {
   "cell_type": "code",
   "execution_count": 2,
   "metadata": {},
   "outputs": [
    {
     "name": "stdout",
     "output_type": "stream",
     "text": [
      "Initialising patch data\n",
      "Assigning relative cartesian velocities and coordinates to all cells\n",
      "Assigning masses to all cells\n",
      "Calculating adiabatic index γ and pressure (polytropic) for all cells\n"
     ]
    },
    {
     "name": "stderr",
     "output_type": "stream",
     "text": [
      "100%|██████████| 5026/5026 [00:16<00:00, 313.14it/s]\n"
     ]
    }
   ],
   "source": [
    "data = pipeline(snap = 400, run = 'sink122core02', sink_id = 122)"
   ]
  },
  {
   "cell_type": "code",
   "execution_count": 3,
   "metadata": {},
   "outputs": [
    {
     "ename": "AttributeError",
     "evalue": "'pipeline' object has no attribute 'recalc_L_old'",
     "output_type": "error",
     "traceback": [
      "\u001b[0;31m---------------------------------------------------------------------------\u001b[0m",
      "\u001b[0;31mAttributeError\u001b[0m                            Traceback (most recent call last)",
      "\u001b[0;32m/tmp/ipykernel_398045/955022833.py\u001b[0m in \u001b[0;36m<module>\u001b[0;34m\u001b[0m\n\u001b[0;32m----> 1\u001b[0;31m \u001b[0mdata\u001b[0m\u001b[0;34m.\u001b[0m\u001b[0mrecalc_L_old\u001b[0m\u001b[0;34m(\u001b[0m\u001b[0;34m)\u001b[0m\u001b[0;34m;\u001b[0m \u001b[0mdata\u001b[0m\u001b[0;34m.\u001b[0m\u001b[0mL\u001b[0m\u001b[0;34m,\u001b[0m \u001b[0mdata\u001b[0m\u001b[0;34m.\u001b[0m\u001b[0mtotal_L\u001b[0m\u001b[0;34m\u001b[0m\u001b[0;34m\u001b[0m\u001b[0m\n\u001b[0m",
      "\u001b[0;31mAttributeError\u001b[0m: 'pipeline' object has no attribute 'recalc_L_old'"
     ]
    }
   ],
   "source": [
    "data.recalc_L_old(); data.L, data.total_L"
   ]
  },
  {
   "cell_type": "code",
   "execution_count": null,
   "metadata": {},
   "outputs": [
    {
     "name": "stdout",
     "output_type": "stream",
     "text": [
      "Converged mean angular momentum vector after 0 iteration(s)\n"
     ]
    },
    {
     "data": {
      "text/plain": [
       "(array([-0.91798873,  0.38220767, -0.10589616]), 4.686650078481343e-09)"
      ]
     },
     "execution_count": 5,
     "metadata": {},
     "output_type": "execute_result"
    }
   ],
   "source": [
    "data.recalc_L(); data.L, data.total_L"
   ]
  },
  {
   "cell_type": "code",
   "execution_count": null,
   "metadata": {},
   "outputs": [],
   "source": [
    "L_new = np.zeros(3)\n",
    "height = 15; radius = 150; err_deg = 5; verbose = 1\n",
    "height /= data.au_length; radius /= data.au_length\n",
    "\n",
    "w = np.array([p.level for p in data.sn.patches]).argsort()[::-1]\n",
    "sorted_patches = [data.sn.patches[w[i]] for i in range(len(data.sn.patches))]\n",
    "\n",
    "for p in sorted_patches:\n",
    "    nbors = [data.sn.patchid[i] for i in p.nbor_ids if i in data.sn.patchid]\n",
    "    children = [ n for n in nbors if n.level == p.level + 1]\n",
    "    leafs = [n for n in children if ((n.position - p.position)**2).sum() < ((p.size)**2).sum()/12]   \n",
    "    if len(leafs) == 8: continue\n",
    "\n",
    "    to_extract = (p.cyl_R < radius) & ((abs(p.cyl_z) < height) | (abs(p.cyl_z / p.cyl_R) < 0.3))\n",
    "    for lp in leafs: \n",
    "        leaf_extent = np.vstack((lp.position - 0.5 * lp.size, lp.position + 0.5 * lp.size)).T\n",
    "        covered_bool = ~np.all((p.xyz > leaf_extent[:, 0, None, None, None]) & (p.xyz < leaf_extent[:, 1, None, None, None]), axis=0)\n",
    "        to_extract *= covered_bool \n",
    "   \n",
    "    L_patch = np.cross(p.rel_xyz, p.vel_xyz * p.m , axisa=0, axisb=0, axisc=0)\n",
    "    L_new += np.array([np.sum(L_patch[axis, to_extract]) for axis in range(3)])\n"
   ]
  },
  {
   "cell_type": "code",
   "execution_count": null,
   "metadata": {},
   "outputs": [
    {
     "data": {
      "text/plain": [
       "array([-0.90232398,  0.41016879, -0.1325632 ])"
      ]
     },
     "execution_count": 40,
     "metadata": {},
     "output_type": "execute_result"
    }
   ],
   "source": [
    "L_new / np.linalg.norm(L_new)"
   ]
  },
  {
   "cell_type": "code",
   "execution_count": null,
   "metadata": {},
   "outputs": [],
   "source": [
    "\n",
    "#### OLD RECALC_FUNCTION FOUND HERE #### UPDATED VERSION IS FOUND IN PIPELINE\n",
    "\n",
    "def recalc_L_old(self, height = 10, radius = 100, err_deg = 5, verbose = 1):\n",
    "    if not self.cyl_calculated: self.calc_cyl()\n",
    "    height /= self.au_length; radius /= self.au_length\n",
    "\n",
    "    def recalc():\n",
    "        L_new = np.zeros(3)\n",
    "        for p in self.sn.patches:\n",
    "            idx = np.nonzero((p.cyl_R < radius) & ((abs(p.cyl_z) < height) | (abs(p.cyl_z / p.cyl_R) < 0.3)))\n",
    "            L_patch = np.cross(p.rel_xyz, p.vel_xyz * p.m , axisa=0, axisb=0, axisc=0)\n",
    "            L_new += np.array([np.sum(L_patch[axis][idx]) for axis in range(3)])\n",
    "        return L_new \n",
    "    L_new =  recalc()\n",
    "    L_i = 0\n",
    "    while calc_ang(self.L, L_new) > err_deg:\n",
    "        self.L = L_new / np.linalg.norm(L_new); self.total_L = np.linalg.norm(L_new)\n",
    "        self.calc_cyl()\n",
    "        L_new = recalc()\n",
    "        L_i += 1\n",
    "        if L_i > 20: break\n",
    "    if verbose != 0: print(f'Converged mean angular momentum vector after {L_i} iteration(s)')"
   ]
  },
  {
   "cell_type": "code",
   "execution_count": 5,
   "metadata": {},
   "outputs": [],
   "source": [
    "for p in data.sn.patches:\n",
    "    if p.id == 1853: break"
   ]
  },
  {
   "cell_type": "code",
   "execution_count": 7,
   "metadata": {},
   "outputs": [
    {
     "data": {
      "text/plain": [
       "['id',\n",
       " 'memmap',\n",
       " 'ioformat',\n",
       " 'iout',\n",
       " 'time',\n",
       " 'ntotal',\n",
       " 'box',\n",
       " 'li',\n",
       " 'ui',\n",
       " 'ng',\n",
       " 'gn',\n",
       " 'n',\n",
       " 'nv',\n",
       " 'mv',\n",
       " 'nt',\n",
       " 'gamma',\n",
       " 'eos_name',\n",
       " 'opacity',\n",
       " 'periodic',\n",
       " 'guard_zones',\n",
       " 'time_derivs',\n",
       " 'no_mans_land',\n",
       " 'omp_nthreads',\n",
       " 'mpi_size',\n",
       " 'mesh_type',\n",
       " 'mpi_dims',\n",
       " 'refine_ratio',\n",
       " 'origin',\n",
       " 'position',\n",
       " 'size',\n",
       " 'level',\n",
       " 'dtime',\n",
       " 'istep',\n",
       " 'ds',\n",
       " 'ncell',\n",
       " 'velocity',\n",
       " 'kind',\n",
       " 'etype',\n",
       " 'record',\n",
       " 'rank',\n",
       " 'centre_nat',\n",
       " 'llc_nat',\n",
       " 'erot1',\n",
       " 'erot2',\n",
       " 'erot3',\n",
       " 'parent_id',\n",
       " 'nbor_ids',\n",
       " 'idx',\n",
       " 'extent',\n",
       " 'llc_cart',\n",
       " 'filename',\n",
       " 'offset',\n",
       " 'ip',\n",
       " 'var',\n",
       " 'aux',\n",
       " 'data',\n",
       " 'keys',\n",
       " 'all_keys',\n",
       " 'x',\n",
       " 'y',\n",
       " 'z',\n",
       " 'xi',\n",
       " 'yi',\n",
       " 'zi',\n",
       " 'xs',\n",
       " 'ys',\n",
       " 'zs',\n",
       " 'xyz',\n",
       " 'xyzi',\n",
       " 'geometric_factors',\n",
       " 'parent',\n",
       " 'rel_ppos',\n",
       " 'rel_xyz',\n",
       " 'dist_xyz',\n",
       " 'vel_xyz',\n",
       " 'vrel',\n",
       " 'm',\n",
       " 'γ',\n",
       " 'P',\n",
       " '__module__',\n",
       " '__init__',\n",
       " 'indices',\n",
       " 'contains',\n",
       " '_h',\n",
       " 'cache',\n",
       " 'plane',\n",
       " '__dict__',\n",
       " '__weakref__',\n",
       " '__doc__',\n",
       " '__repr__',\n",
       " '__hash__',\n",
       " '__str__',\n",
       " '__getattribute__',\n",
       " '__setattr__',\n",
       " '__delattr__',\n",
       " '__lt__',\n",
       " '__le__',\n",
       " '__eq__',\n",
       " '__ne__',\n",
       " '__gt__',\n",
       " '__ge__',\n",
       " '__new__',\n",
       " '__reduce_ex__',\n",
       " '__reduce__',\n",
       " '__subclasshook__',\n",
       " '__init_subclass__',\n",
       " '__format__',\n",
       " '__sizeof__',\n",
       " '__dir__',\n",
       " '__class__']"
      ]
     },
     "execution_count": 7,
     "metadata": {},
     "output_type": "execute_result"
    }
   ],
   "source": [
    "p.__dir__()"
   ]
  },
  {
   "cell_type": "code",
   "execution_count": null,
   "metadata": {},
   "outputs": [],
   "source": []
  }
 ],
 "metadata": {
  "kernelspec": {
   "display_name": "base",
   "language": "python",
   "name": "python3"
  },
  "language_info": {
   "codemirror_mode": {
    "name": "ipython",
    "version": 3
   },
   "file_extension": ".py",
   "mimetype": "text/x-python",
   "name": "python",
   "nbconvert_exporter": "python",
   "pygments_lexer": "ipython3",
   "version": "3.8.11"
  }
 },
 "nbformat": 4,
 "nbformat_minor": 2
}
