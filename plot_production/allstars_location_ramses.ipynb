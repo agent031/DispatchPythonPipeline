{
 "cells": [
  {
   "cell_type": "code",
   "execution_count": 1,
   "metadata": {},
   "outputs": [],
   "source": [
    "import numpy as np\n",
    "import tqdm \n",
    "import sys\n",
    "import osyris\n",
    "from osyris.plot.direction import get_direction\n",
    "\n",
    "import sys\n",
    "sys.path.insert(0,'/groups/astro/troels/python')\n",
    "\n",
    "sys.path.append('../my_funcs/')\n",
    "\n",
    "from pipeline_main_nosink import pipeline_nosink\n",
    "from pipeline_2D_nosink import to_osyris_ivs"
   ]
  },
  {
   "cell_type": "code",
   "execution_count": 9,
   "metadata": {},
   "outputs": [
    {
     "name": "stdout",
     "output_type": "stream",
     "text": [
      "Initialising patch data\n"
     ]
    },
    {
     "name": "stderr",
     "output_type": "stream",
     "text": [
      "100%|██████████| 6310/6310 [00:42<00:00, 149.51it/s]\n"
     ]
    }
   ],
   "source": [
    "data_80 = pipeline_nosink(snap = 236, run = 'sink80core01', sink_pos = np.array([0,0,0]))\n",
    "\n",
    "width_au = 4 * data_80.sn.cgs.pc / data_80.sn.cgs.au"
   ]
  },
  {
   "cell_type": "code",
   "execution_count": 4,
   "metadata": {},
   "outputs": [],
   "source": [
    "class units_class():\n",
    "    def __init__(self):\n",
    "        # constants\n",
    "        self.au = 14959787070000                  # 1 au in cm\n",
    "        self.pc = self.au * 3600. * 180. / np.pi  # 1 parsec in cm\n",
    "        self.yr = 3600. * 24. * 365.25            # astronomical year in seconds\n",
    "        self.msun = 1.98847e33                    # solar masses in g\n",
    "        \n",
    "        # cgs units\n",
    "        self.lcgs = 4. * self.pc                  # 4 parsec in cm\n",
    "        self.vcgs = 1.8e4                         # 0.18 km/s\n",
    "        self.tcgs = self.lcgs / self.vcgs         # 21.7 Myr in seconds\n",
    "        \n",
    "        # natural units\n",
    "        self.l = self.lcgs / self.au              # box size in AU\n",
    "        self.v = 0.18                             # velocity in km/s\n",
    "        self.t = self.tcgs / self.yr              # time in yr\n",
    "        self.n = 798.                             # number density in ppc\n",
    "        self.m = 2998.                            # mass in solar masses\n",
    "        self.d = (self.m * self.msun) / self.lcgs**3 # density in g / cm^-3"
   ]
  },
  {
   "cell_type": "code",
   "execution_count": 23,
   "metadata": {},
   "outputs": [
    {
     "name": "stdout",
     "output_type": "stream",
     "text": [
      "Processing 272 files in /dev/shm/kxm508/data/output_00119\n",
      " 10% : read   26050628 cells,          0 particles\n",
      " 20% : read   50871062 cells,          0 particles\n",
      " 30% : read   76762507 cells,          0 particles\n",
      " 40% : read   99933988 cells,          0 particles\n"
     ]
    }
   ],
   "source": [
    "datadir = '/lustre/astro/troels/IMF_512/data'\n",
    "datadir = '/dev/shm/kxm508/data'\n",
    "ds = osyris.Dataset(nout = 119, path=datadir)\n",
    "\n",
    "unit = units_class()\n",
    "ds.meta['unit_l'] = unit.lcgs\n",
    "ds.meta['unit_t'] = unit.tcgs\n",
    "ds.meta['unit_d'] = unit.d\n",
    "ds.set_units()\n",
    "ds.meta[\"ndim\"] = 3\n",
    "\n",
    "data = ds.load()"
   ]
  },
  {
   "cell_type": "code",
   "execution_count": 22,
   "metadata": {},
   "outputs": [
    {
     "ename": "KeyError",
     "evalue": "'density'",
     "output_type": "error",
     "traceback": [
      "\u001b[0;31m---------------------------------------------------------------------------\u001b[0m",
      "\u001b[0;31mKeyError\u001b[0m                                  Traceback (most recent call last)",
      "\u001b[0;32m/tmp/ipykernel_1279919/1636696439.py\u001b[0m in \u001b[0;36m<module>\u001b[0;34m\u001b[0m\n\u001b[1;32m      5\u001b[0m \u001b[0;34m\u001b[0m\u001b[0m\n\u001b[1;32m      6\u001b[0m \u001b[0mcenter\u001b[0m \u001b[0;34m=\u001b[0m \u001b[0mosyris\u001b[0m\u001b[0;34m.\u001b[0m\u001b[0mVector\u001b[0m\u001b[0;34m(\u001b[0m\u001b[0mx\u001b[0m\u001b[0;34m=\u001b[0m\u001b[0;36m0\u001b[0m\u001b[0;34m,\u001b[0m\u001b[0my\u001b[0m\u001b[0;34m=\u001b[0m\u001b[0;36m0\u001b[0m\u001b[0;34m,\u001b[0m\u001b[0mz\u001b[0m\u001b[0;34m=\u001b[0m\u001b[0;36m0\u001b[0m\u001b[0;34m,\u001b[0m\u001b[0munit\u001b[0m\u001b[0;34m=\u001b[0m\u001b[0;34m'au'\u001b[0m\u001b[0;34m)\u001b[0m\u001b[0;34m\u001b[0m\u001b[0;34m\u001b[0m\u001b[0m\n\u001b[0;32m----> 7\u001b[0;31m \u001b[0mosyris\u001b[0m\u001b[0;34m.\u001b[0m\u001b[0mmap\u001b[0m\u001b[0;34m(\u001b[0m\u001b[0;34m{\u001b[0m\u001b[0;34m\"data\"\u001b[0m\u001b[0;34m:\u001b[0m \u001b[0mdata\u001b[0m\u001b[0;34m[\u001b[0m\u001b[0;34m\"hydro\"\u001b[0m\u001b[0;34m]\u001b[0m\u001b[0;34m[\u001b[0m\u001b[0;34m\"density\"\u001b[0m\u001b[0;34m]\u001b[0m\u001b[0;34m,\u001b[0m \u001b[0;34m\"norm\"\u001b[0m\u001b[0;34m:\u001b[0m \u001b[0;34m\"log\"\u001b[0m\u001b[0;34m,\u001b[0m \u001b[0;34m\"vmin\"\u001b[0m\u001b[0;34m:\u001b[0m \u001b[0mdmin\u001b[0m\u001b[0;34m,\u001b[0m \u001b[0;34m\"vmax\"\u001b[0m\u001b[0;34m:\u001b[0m \u001b[0mdmax\u001b[0m\u001b[0;34m}\u001b[0m\u001b[0;34m,\u001b[0m \u001b[0mdx\u001b[0m\u001b[0;34m=\u001b[0m\u001b[0mview\u001b[0m\u001b[0;34m,\u001b[0m \u001b[0mdz\u001b[0m\u001b[0;34m=\u001b[0m\u001b[0mdepth\u001b[0m \u001b[0;34m*\u001b[0m \u001b[0mview\u001b[0m\u001b[0;34m,\u001b[0m \u001b[0morigin\u001b[0m \u001b[0;34m=\u001b[0m \u001b[0mcenter\u001b[0m\u001b[0;34m,\u001b[0m \u001b[0mdirection\u001b[0m \u001b[0;34m=\u001b[0m \u001b[0mto_view\u001b[0m\u001b[0;34m,\u001b[0m \u001b[0mresolution\u001b[0m\u001b[0;34m=\u001b[0m\u001b[0mresolution\u001b[0m\u001b[0;34m)\u001b[0m\u001b[0;34m\u001b[0m\u001b[0;34m\u001b[0m\u001b[0m\n\u001b[0m",
      "\u001b[0;32m/software/astro/anaconda/anaconda3-2021.05/lib/python3.8/site-packages/osyris/core/datagroup.py\u001b[0m in \u001b[0;36m__getitem__\u001b[0;34m(self, key)\u001b[0m\n\u001b[1;32m     23\u001b[0m     \u001b[0;32mdef\u001b[0m \u001b[0m__getitem__\u001b[0m\u001b[0;34m(\u001b[0m\u001b[0mself\u001b[0m\u001b[0;34m,\u001b[0m \u001b[0mkey\u001b[0m\u001b[0;34m)\u001b[0m\u001b[0;34m:\u001b[0m\u001b[0;34m\u001b[0m\u001b[0;34m\u001b[0m\u001b[0m\n\u001b[1;32m     24\u001b[0m         \u001b[0;32mif\u001b[0m \u001b[0misinstance\u001b[0m\u001b[0;34m(\u001b[0m\u001b[0mkey\u001b[0m\u001b[0;34m,\u001b[0m \u001b[0mstr\u001b[0m\u001b[0;34m)\u001b[0m\u001b[0;34m:\u001b[0m\u001b[0;34m\u001b[0m\u001b[0;34m\u001b[0m\u001b[0m\n\u001b[0;32m---> 25\u001b[0;31m             \u001b[0;32mreturn\u001b[0m \u001b[0mself\u001b[0m\u001b[0;34m.\u001b[0m\u001b[0m_container\u001b[0m\u001b[0;34m[\u001b[0m\u001b[0mkey\u001b[0m\u001b[0;34m]\u001b[0m\u001b[0;34m\u001b[0m\u001b[0;34m\u001b[0m\u001b[0m\n\u001b[0m\u001b[1;32m     26\u001b[0m         \u001b[0;32melse\u001b[0m\u001b[0;34m:\u001b[0m\u001b[0;34m\u001b[0m\u001b[0;34m\u001b[0m\u001b[0m\n\u001b[1;32m     27\u001b[0m             \u001b[0;32mif\u001b[0m \u001b[0misinstance\u001b[0m\u001b[0;34m(\u001b[0m\u001b[0mkey\u001b[0m\u001b[0;34m,\u001b[0m \u001b[0mint\u001b[0m\u001b[0;34m)\u001b[0m\u001b[0;34m:\u001b[0m\u001b[0;34m\u001b[0m\u001b[0;34m\u001b[0m\u001b[0m\n",
      "\u001b[0;31mKeyError\u001b[0m: 'density'"
     ]
    }
   ],
   "source": [
    "resolution=1000; dmin=None; dmax=None; vmin=1e-15; vmax=3e-11; view=100; depth=0.2\n",
    "viewpoint=np.array([1,0,0])\n",
    "to_view = osyris.Vector(x=viewpoint[0],y=viewpoint[1],z=viewpoint[2])\n",
    "\n",
    "\n",
    "center = osyris.Vector(x=0,y=0,z=0,unit='au')\n",
    "osyris.map({\"data\": data[\"hydro\"][\"density\"], \"norm\": \"log\", \"vmin\": dmin, \"vmax\": dmax}, dx=view, dz=depth * view, origin = center, direction = to_view, resolution=resolution)"
   ]
  },
  {
   "cell_type": "code",
   "execution_count": 21,
   "metadata": {},
   "outputs": [
    {
     "data": {
      "text/plain": [
       "Dataset: /lustre/astro/troels/IMF_512/data/output_00119: 18.06 GB\n",
       "Datagroup: amr 10.03 GB\n",
       "'level' Min: 9 Max: 15 [] (250812549,)\n",
       "'cpu' Min: 1 Max: 272 [] (250812549,)\n",
       "'dx' Min: 3.767e+14 Max: 2.411e+16 [cm] (250812549,)\n",
       "'position' Min: 2.088e+16 Max: 2.136e+19 [cm] (250812549,), {x,y,z}\n",
       "\n",
       "Datagroup: grav 8.03 GB\n",
       "'grav_potential' Min: -1.029e+14 Max: 9.032e+13 [cm ** 2 / s ** 2] (250812549,)\n",
       "'grav_acceleration' Min: 1.495e-14 Max: 8.402e-06 [cm / s ** 2] (250812549,), {x,y,z}\n",
       "\n",
       "Datagroup: hydro 0B\n"
      ]
     },
     "execution_count": 21,
     "metadata": {},
     "output_type": "execute_result"
    }
   ],
   "source": [
    "data"
   ]
  },
  {
   "cell_type": "code",
   "execution_count": null,
   "metadata": {},
   "outputs": [],
   "source": []
  },
  {
   "cell_type": "code",
   "execution_count": null,
   "metadata": {},
   "outputs": [],
   "source": []
  },
  {
   "cell_type": "code",
   "execution_count": null,
   "metadata": {},
   "outputs": [],
   "source": []
  }
 ],
 "metadata": {
  "kernelspec": {
   "display_name": "base",
   "language": "python",
   "name": "python3"
  },
  "language_info": {
   "codemirror_mode": {
    "name": "ipython",
    "version": 3
   },
   "file_extension": ".py",
   "mimetype": "text/x-python",
   "name": "python",
   "nbconvert_exporter": "python",
   "pygments_lexer": "ipython3",
   "version": "3.8.0"
  }
 },
 "nbformat": 4,
 "nbformat_minor": 2
}
