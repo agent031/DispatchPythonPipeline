{
 "cells": [
  {
   "cell_type": "code",
   "execution_count": 1,
   "metadata": {},
   "outputs": [],
   "source": [
    "import numpy as np\n",
    "import tqdm \n",
    "import os\n",
    "import sys\n",
    "import matplotlib.pyplot as plt\n",
    "from matplotlib import colors \n",
    "import matplotlib as mpl\n",
    "from matplotlib.cm import ScalarMappable\n",
    "\n",
    "sys.path.append('../pipeline_scripts/')\n",
    "from pipeline_main import pipeline\n",
    "from pipeline_streamers import phi_average \n",
    "\n",
    "\n",
    "# Set som plotting standards:\n",
    "font = {'family' : 'serif',\n",
    "        'weight' : 'normal',\n",
    "        'size'   : 20}\n",
    "mpl.rc('font', **font)"
   ]
  },
  {
   "cell_type": "code",
   "execution_count": 2,
   "metadata": {},
   "outputs": [
    {
     "name": "stdout",
     "output_type": "stream",
     "text": [
      "Initialising patch data\n",
      "Assigning relative cartesian velocities and coordinates to all cells\n",
      "Assigning masses to all cells\n",
      "Calculating adiabatic index γ and pressure (polytropic) for all cells\n"
     ]
    },
    {
     "name": "stderr",
     "output_type": "stream",
     "text": [
      "100%|██████████| 4165/4165 [00:05<00:00, 761.76it/s]\n"
     ]
    },
    {
     "name": "stdout",
     "output_type": "stream",
     "text": [
      "Initialising patch data\n",
      "Assigning relative cartesian velocities and coordinates to all cells\n",
      "Assigning masses to all cells\n",
      "Calculating adiabatic index γ and pressure (polytropic) for all cells\n"
     ]
    },
    {
     "name": "stderr",
     "output_type": "stream",
     "text": [
      "100%|██████████| 4165/4165 [00:05<00:00, 761.20it/s]\n",
      "100%|██████████| 4165/4165 [00:00<00:00, 4956.65it/s]\n"
     ]
    }
   ],
   "source": [
    "datai = pipeline(snap = 343, run = 'sink122core02', sink_id=13) \n",
    "data = pipeline(snap = 400, run = 'sink122core02', sink_id=122)\n",
    "data.recalc_L(verbose = 0); data.calc_cyl(); data.calc_trans_xyz(verbose = 0)"
   ]
  },
  {
   "cell_type": "code",
   "execution_count": 3,
   "metadata": {},
   "outputs": [
    {
     "name": "stdout",
     "output_type": "stream",
     "text": [
      "Loading all snapshots - this might take awhile\n"
     ]
    },
    {
     "name": "stderr",
     "output_type": "stream",
     "text": [
      "100%|██████████| 59/59 [01:12<00:00,  1.23s/it]\n"
     ]
    }
   ],
   "source": [
    "data.sink_evolution()"
   ]
  },
  {
   "cell_type": "code",
   "execution_count": 4,
   "metadata": {},
   "outputs": [],
   "source": [
    "snapshots = np.asarray([key for key in data.snaps.keys()])"
   ]
  },
  {
   "cell_type": "code",
   "execution_count": 6,
   "metadata": {},
   "outputs": [
    {
     "name": "stderr",
     "output_type": "stream",
     "text": [
      "  0%|          | 0/59 [00:00<?, ?it/s]/tmp/ipykernel_1364817/1018684282.py:34: UserWarning: The following kwargs were not used by contour: 'ls'\n",
      "  ct = axs.contour(xx, yy, np.log10(β_phiaverage.T), [np.log10(1)], colors = ['black'], alpha = 0.6, ls = '--')\n",
      "100%|██████████| 59/59 [31:19<00:00, 31.86s/it]\n"
     ]
    }
   ],
   "source": [
    "orig_directory = os.getcwd()\n",
    "os.chdir('graphics')\n",
    "folder = \"phiaverage_ρevolution\"\n",
    "try:\n",
    "    os.mkdir(folder)\n",
    "except:\n",
    "    pass\n",
    "os.chdir('../')\n",
    "\n",
    "for sn in tqdm.tqdm(snapshots):\n",
    "    data_loop = pipeline(snap = sn, run = 'sink122core02', sink_id=122, verbose=0, loading_bar=False)\n",
    "    data_loop.recalc_L(verbose = 0); data_loop.calc_cyl(); data_loop.calc_trans_xyz(verbose = 0)\n",
    "\n",
    "    R, z, val_P,  rr_v, zz_v, vr, vz, arrow_length = data_loop.phiaverage(ivs = None, radius=80, NR = 120, quiver_dens=0.4, get_quiver=True, plot = False)\n",
    "    \n",
    "    β_phiaverage = val_P * data.cgs_pressure / (val_B * data.sn.scaling.b**2 / (8 * np.pi))\n",
    "\n",
    "    xx, yy = np.meshgrid(R * data.au_length, z * data.au_length)\n",
    "    quiver_dens = 0.45\n",
    "\n",
    "    fig, axs = plt.subplots(figsize = (20,8))\n",
    "\n",
    "    log_vmin = -4; log_vmax = 4\n",
    "    cs = axs.contourf(R * data.au_length, z * data.au_length, np.log10(β_phiaverage.T), origin = 'lower', levels = 200, cmap = 'RdBu', vmin = log_vmin, vmax = log_vmax)\n",
    "\n",
    "    cbar = fig.colorbar(ScalarMappable(norm=cs.norm, cmap=cs.cmap), ticks = range(log_vmin, log_vmax + 1, 1), ax = axs, fraction = 0.1, pad = 0.06, location = 'top');\n",
    "\n",
    "\n",
    "    quiver = axs.quiver(rr_v * data.au_length, zz_v*data.au_length, vr , vz, np.log10(arrow_length), \n",
    "                                cmap=mpl.cm.cividis_r, headwidth = 2.5, headaxislength = 2.3, headlength = 2.3, pivot = 'mid', scale = 100 / (0.6 / quiver_dens));\n",
    "    cbar_vel = fig.colorbar(quiver, pad = 0.005)\n",
    "    cbar_vel.set_label('$\\log_{10}(V)$ [cm/s]')\n",
    "\n",
    "    ct = axs.contour(xx, yy, np.log10(β_phiaverage.T), [np.log10(1)], colors = ['black'], alpha = 0.6, ls = '--')\n",
    "\n",
    "    contour_labels = ['β = 1']\n",
    "    for i in range(len(contour_labels)):\n",
    "        ct.collections[i].set_label(contour_labels[i])\n",
    "\n",
    "    cbar.set_label('log10(β)\\n[Unitless]', labelpad = -60, x = -0.08, rotation = 0, fontsize = 18)\n",
    "    axs.set(ylabel = 'Height over midplane [AU]', xlabel = 'Distance from star  [AU]');\n",
    "    axs.set(title=f'T = {(data_loop.time - datai.time)*1e-3:2.1f} kyr')\n",
    "    plt.legend()\n",
    "    os.chdir('graphics')\n",
    "    plt.savefig(folder + f'/snap_{sn:3.0f}.png', facecolor='w')\n",
    "    os.chdir('../')\n",
    "    plt.close(fig)"
   ]
  },
  {
   "cell_type": "code",
   "execution_count": 5,
   "metadata": {},
   "outputs": [
    {
     "data": {
      "text/plain": [
       "0.060000000000000005"
      ]
     },
     "execution_count": 5,
     "metadata": {},
     "output_type": "execute_result"
    }
   ],
   "source": [
    "2e-5 * 3000"
   ]
  },
  {
   "cell_type": "code",
   "execution_count": null,
   "metadata": {},
   "outputs": [],
   "source": []
  }
 ],
 "metadata": {
  "kernelspec": {
   "display_name": "base",
   "language": "python",
   "name": "python3"
  },
  "language_info": {
   "codemirror_mode": {
    "name": "ipython",
    "version": 3
   },
   "file_extension": ".py",
   "mimetype": "text/x-python",
   "name": "python",
   "nbconvert_exporter": "python",
   "pygments_lexer": "ipython3",
   "version": "3.8.11"
  }
 },
 "nbformat": 4,
 "nbformat_minor": 2
}
