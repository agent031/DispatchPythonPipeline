{
 "cells": [
  {
   "cell_type": "code",
   "execution_count": 2,
   "metadata": {},
   "outputs": [],
   "source": [
    "import numpy as np\n",
    "import tqdm \n",
    "import os\n",
    "import sys\n",
    "import matplotlib.pyplot as plt\n",
    "from matplotlib import colors \n",
    "import matplotlib as mpl\n",
    "\n",
    "sys.path.append('../my_funcs/')\n",
    "from pipeline_main import pipeline\n",
    "from pipeline_streamers import infall_sphere \n",
    "\n",
    "\n",
    "# Set som plotting standards:\n",
    "font = {'family' : 'serif',\n",
    "        'weight' : 'normal',\n",
    "        'size'   : 16}\n",
    "mpl.rc('font', **font)"
   ]
  },
  {
   "cell_type": "code",
   "execution_count": 3,
   "metadata": {},
   "outputs": [
    {
     "name": "stdout",
     "output_type": "stream",
     "text": [
      "Initialising patch data\n",
      "Assigning relative cartesian velocities and coordinates to all cells\n",
      "Assigning masses to all cells\n",
      "Calculating adiabatic index γ and pressure (polytropic) for all cells\n"
     ]
    },
    {
     "name": "stderr",
     "output_type": "stream",
     "text": [
      "100%|██████████| 4165/4165 [00:05<00:00, 825.18it/s]\n"
     ]
    },
    {
     "name": "stdout",
     "output_type": "stream",
     "text": [
      "Initialising patch data\n",
      "Assigning relative cartesian velocities and coordinates to all cells\n",
      "Assigning masses to all cells\n",
      "Calculating adiabatic index γ and pressure (polytropic) for all cells\n"
     ]
    }
   ],
   "source": [
    "datai = pipeline(snap = 223, run = 'goodold13', sink_id=13) \n",
    "data = pipeline(snap = 276, run = 'goodold13', sink_id=13, loading_bar=False)\n",
    "data.recalc_L(verbose = 0); data.calc_cyl(); data.calc_trans_xyz(verbose = 0)"
   ]
  },
  {
   "cell_type": "code",
   "execution_count": 4,
   "metadata": {},
   "outputs": [],
   "source": [
    "shell_r = 20; shell_Δpct = 0.05\n",
    "Δ_r = np.maximum(shell_Δpct * shell_r, 0.5**(data.lmax))\n",
    "Lon, Lat, proj_data, total_infall = data.infall_sphere(shell_r=shell_r, get_data=True, plot = False, verbose = 0, normalized=True)\n",
    "\n",
    "range_plot = 1e-9; linear_threshold = 1e-13; dpi = 100\n",
    "fig = plt.figure(figsize =(10, 7), dpi = dpi)\n",
    "ax = fig.add_subplot(111, projection='hammer')\n",
    "ax.set_yticks([]); ax.set_xticks([])\n",
    "im = ax.pcolormesh(Lon, Lat, proj_data, cmap='coolwarm', snap = True, norm=colors.SymLogNorm(linthresh = linear_threshold, linscale = 0.5, vmin = -range_plot, vmax = range_plot), shading = 'gouraud')\n",
    "cbar = fig.colorbar(im, orientation='horizontal')\n",
    "\n",
    "cbar.set_label('Mass accretion [M$_\\odot$yr$^{-1}$]', labelpad = -80, y = 2, rotation = 0, fontsize = 16)\n",
    "\n",
    "ax.set(title =f'Radius = {shell_r:2.0f}$\\pm${Δ_r:1.0f} au, Total infall {total_infall*1e6:2.1f} 10$^{{-6}}$ M$_\\odot$yr$^{-1}$')\n",
    "plt.tight_layout()\n",
    "plt.close(fig)"
   ]
  },
  {
   "cell_type": "code",
   "execution_count": 5,
   "metadata": {},
   "outputs": [
    {
     "data": {
      "text/plain": [
       "array([  20.        ,   21.66221455,   23.46257696,   25.4125688 ,\n",
       "         27.52462587,   29.81221755,   32.28993264,   34.97357243,\n",
       "         37.88025148,   41.02850673,   44.43841577,   48.13172483,\n",
       "         52.1319875 ,   56.4647149 ,   61.15753843,   66.24038594,\n",
       "         71.7456726 ,   77.70850764,   84.16691824,   91.16209204,\n",
       "         98.73863982,  106.94488001,  115.83314678,  125.46012387,\n",
       "        135.88720603,  147.18089057,  159.41320145,  172.66214858,\n",
       "        187.01222535,  202.55494744,  219.38943647,  237.62305213,\n",
       "        257.37207684,  278.76245737,  301.93060799,  327.02428045,\n",
       "        354.20350629,  383.64161736,  415.52635125,  450.06104857,\n",
       "        487.46594971,  527.97959939,  571.86036797,  619.38809914,\n",
       "        670.86589463,  726.62204714,  787.01213405,  852.42128501,\n",
       "        923.26663809, 1000.        ])"
      ]
     },
     "execution_count": 5,
     "metadata": {},
     "output_type": "execute_result"
    }
   ],
   "source": [
    "shells = np.logspace(np.log10(20), np.log10(1000), 50); shells"
   ]
  },
  {
   "cell_type": "code",
   "execution_count": 6,
   "metadata": {},
   "outputs": [
    {
     "name": "stderr",
     "output_type": "stream",
     "text": [
      "  0%|          | 0/50 [00:00<?, ?it/s]"
     ]
    },
    {
     "name": "stderr",
     "output_type": "stream",
     "text": [
      " 62%|██████▏   | 31/50 [26:40<16:26, 51.92s/it]"
     ]
    }
   ],
   "source": [
    "range_plot = 1e-9; linear_threshold = 1e-13; dpi = 100\n",
    "orig_directory = os.getcwd()\n",
    "os.chdir('graphics')\n",
    "folder = \"hammer_zoomout13_26kyr\"\n",
    "try:\n",
    "    os.mkdir(folder)\n",
    "except:\n",
    "    pass\n",
    "os.chdir('../')\n",
    "\n",
    "for s in tqdm.tqdm(shells):\n",
    "    shell_r = s; shell_Δpct = 0.05\n",
    "    Δ_r = np.maximum(shell_Δpct * shell_r, 0.5**(data.lmax))\n",
    "    os.chdir(orig_directory)\n",
    "    Lon, Lat, proj_data, total_infall = data.infall_sphere(shell_r=shell_r, get_data=True, plot = False, verbose = 0, normalized=True)\n",
    "    \n",
    "    fig = plt.figure(figsize =(10, 7), dpi = dpi)\n",
    "    ax = fig.add_subplot(111, projection='hammer')\n",
    "    ax.set_yticks([]); ax.set_xticks([])\n",
    "    im = ax.pcolormesh(Lon, Lat, proj_data, cmap='coolwarm', snap = True, norm=colors.SymLogNorm(linthresh = linear_threshold, linscale = 0.5, vmin = -range_plot, vmax = range_plot), shading = 'gouraud')\n",
    "    cbar = fig.colorbar(im, orientation='horizontal')\n",
    "\n",
    "    cbar.set_label('Mass accretion [M$_\\odot$yr$^{-1}$]', labelpad = -80, y = 2, rotation = 0, fontsize = 16)\n",
    "\n",
    "    ax.set(title =f'Radius = {shell_r:2.0f}$\\pm${Δ_r:1.0f} au, Total infall {total_infall*1e6:2.1f} 10$^{{-6}}$ M$_\\odot$yr$^{-1}$')\n",
    "    plt.tight_layout()\n",
    "    os.chdir('graphics')\n",
    "    plt.savefig(folder + f'/imgs_{s:1.0f}.png', facecolor='w')\n",
    "    os.chdir('../')\n",
    "    plt.close(fig)"
   ]
  },
  {
   "cell_type": "code",
   "execution_count": null,
   "metadata": {},
   "outputs": [],
   "source": []
  }
 ],
 "metadata": {
  "kernelspec": {
   "display_name": "base",
   "language": "python",
   "name": "python3"
  },
  "language_info": {
   "codemirror_mode": {
    "name": "ipython",
    "version": 3
   },
   "file_extension": ".py",
   "mimetype": "text/x-python",
   "name": "python",
   "nbconvert_exporter": "python",
   "pygments_lexer": "ipython3",
   "version": "3.8.11"
  }
 },
 "nbformat": 4,
 "nbformat_minor": 2
}
