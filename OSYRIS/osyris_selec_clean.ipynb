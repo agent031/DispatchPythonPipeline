{
 "cells": [
  {
   "cell_type": "code",
   "execution_count": 1,
   "metadata": {},
   "outputs": [],
   "source": [
    "import numpy as np\n",
    "import tqdm \n",
    "import matplotlib.pyplot as plt\n",
    "from scipy.interpolate import griddata\n",
    "from matplotlib import colors\n",
    "import matplotlib as mpl \n",
    "import sys\n",
    "\n",
    "sys.path.append('../pipeline_scripts/')\n",
    "from pipeline_main import pipeline, dist\n",
    "from pipeline_main_nosink import pipeline_nosink, dist\n",
    "\n",
    "import osyris\n",
    "from osyris.plot.direction import get_direction\n",
    "\n",
    "# Set som plotting standards:\n",
    "font = {'family' : 'serif',\n",
    "        'weight' : 'normal',\n",
    "        'size'   : 16}\n",
    "mpl.rc('font', **font)\n"
   ]
  },
  {
   "cell_type": "code",
   "execution_count": 2,
   "metadata": {},
   "outputs": [
    {
     "name": "stdout",
     "output_type": "stream",
     "text": [
      "Initialising patch data\n",
      "Assigning relative cartesian velocities and coordinates to all cells\n",
      "Assigning masses to all cells\n",
      "Calculating adiabatic index γ and pressure (polytropic) for all cells\n"
     ]
    },
    {
     "name": "stderr",
     "output_type": "stream",
     "text": [
      "100%|██████████| 5026/5026 [00:39<00:00, 128.31it/s]\n"
     ]
    }
   ],
   "source": [
    "data = pipeline(snap = 400, run = 'sink122core02', sink_id = 122)"
   ]
  },
  {
   "cell_type": "code",
   "execution_count": 13,
   "metadata": {},
   "outputs": [],
   "source": [
    "def Dispatch_to_1Dvector(self, variables, vectors = None, verbose = 1):\n",
    "    if verbose > 0: print('Looping over DISPATCH data to extract data at highest level')\n",
    "    pp = [p for p in self.sn.patches]\n",
    "    w= np.array([p.level for p in pp]).argsort()[::-1]\n",
    "    sorted_patches = [pp[w[i]] for i in range(len(pp))]\n",
    "\n",
    "    patch_cartcoor = []\n",
    "    patch_ds = []\n",
    "    patch_values = {key: [] for key in range(len(variables))}\n",
    "    if vectors is not None: patch_vectors = {key: [] for key in range(len(vectors))}\n",
    "    else: patch_vectors = None\n",
    "\n",
    "    for p in tqdm.tqdm(sorted_patches, disable = not self.loading_bar):\n",
    "        nbors = [self.sn.patchid[i] for i in p.nbor_ids if i in self.sn.patchid]\n",
    "        children = [ n for n in nbors if n.level == p.level + 1]\n",
    "        leafs = [n for n in children if ((n.position - p.position)**2).sum() < ((p.size)**2).sum()/12]\n",
    "        if len(leafs) == 8: continue\n",
    "        to_extract = np.ones(p.n, dtype=bool)\n",
    "        for lp in leafs:\n",
    "            leaf_extent = np.vstack((lp.position - 0.5 * lp.size, lp.position + 0.5 * lp.size)).T\n",
    "            covered_bool = ~np.all((p.xyz > leaf_extent[:, 0, None, None, None]) & (p.xyz < leaf_extent[:, 1, None, None, None]), axis=0)\n",
    "            to_extract *= covered_bool\n",
    "\n",
    "        #Looping over the data to extract from DISPATCH\n",
    "        for i, ivs in enumerate(variables):\n",
    "            if hasattr(p, ivs):\n",
    "                new_value = getattr(p, ivs)[to_extract].T               \n",
    "            else:\n",
    "                new_value = p.var(ivs)[to_extract].T\n",
    "            patch_values[i].extend(new_value.tolist())\n",
    "\n",
    "        if vectors is not None:\n",
    "            for i, ivs in enumerate(vectors):\n",
    "                new_vector = getattr(p, ivs)[:, to_extract].T\n",
    "                patch_vectors[i].extend(new_vector.tolist())\n",
    "     \n",
    "        #Extracting the position and cellsize data each is fixed across all data\n",
    "        #The line below should probably be changes to p.xyz to not have the star in the cetner since the code doesn't deal with periodic boundaries\n",
    "        new_xyz = p.rel_xyz[:,to_extract].T \n",
    "        new_xyz[new_xyz < -0.5] += 1\n",
    "        new_xyz[new_xyz > 0.5] -= 1\n",
    "        patch_ds.extend(p.ds[0] * np.ones(len(new_value)))\n",
    "        patch_cartcoor.extend(new_xyz.tolist())\n",
    "    \n",
    "    patch_ds = np.asarray(patch_ds)\n",
    "    patch_cartcoor = np.asarray(patch_cartcoor)\n",
    "    for key in patch_values:\n",
    "        patch_values[key] = np.array(patch_values[key])\n",
    "    if vectors is not None:\n",
    "        for key in patch_vectors:\n",
    "            patch_vectors[key] = np.array(patch_vectors[key])\n",
    "    \n",
    "    return patch_cartcoor, patch_ds, patch_values, patch_vectors\n",
    "\n",
    "pipeline.Dispatch_to_1Dvector = Dispatch_to_1Dvector"
   ]
  },
  {
   "cell_type": "code",
   "execution_count": 4,
   "metadata": {},
   "outputs": [
    {
     "name": "stderr",
     "output_type": "stream",
     "text": [
      "100%|██████████| 5026/5026 [00:08<00:00, 587.90it/s]\n"
     ]
    }
   ],
   "source": [
    "for p in tqdm.tqdm(data.sn.patches):\n",
    "    p.B = np.concatenate([p.var(f'b'+axis)[None,...] for axis in ['x','y','z']], axis = 0)"
   ]
  },
  {
   "cell_type": "code",
   "execution_count": 5,
   "metadata": {},
   "outputs": [],
   "source": [
    "variable = ['d']\n",
    "vector = ['vrel', 'B']"
   ]
  },
  {
   "cell_type": "code",
   "execution_count": 14,
   "metadata": {},
   "outputs": [
    {
     "name": "stdout",
     "output_type": "stream",
     "text": [
      "Looping over DISPATCH data to extract data at highest level\n"
     ]
    },
    {
     "name": "stderr",
     "output_type": "stream",
     "text": [
      "100%|██████████| 5026/5026 [00:49<00:00, 102.20it/s]\n"
     ]
    }
   ],
   "source": [
    "patch_cartcoor, patch_ds, patch_values, patch_vectors = data.Dispatch_to_1Dvector(variables=variable, vectors = vector)"
   ]
  },
  {
   "cell_type": "code",
   "execution_count": 15,
   "metadata": {},
   "outputs": [
    {
     "data": {
      "text/plain": [
       "((18013696, 3), (18013696,), (18013696,), (18013696, 3))"
      ]
     },
     "execution_count": 15,
     "metadata": {},
     "output_type": "execute_result"
    }
   ],
   "source": [
    "patch_cartcoor.shape, patch_ds.shape, patch_values[0].shape, patch_vectors[0].shape"
   ]
  },
  {
   "cell_type": "code",
   "execution_count": 16,
   "metadata": {},
   "outputs": [
    {
     "data": {
      "text/plain": [
       "(-0.4968490632361263, 0.4970474150685993)"
      ]
     },
     "execution_count": 16,
     "metadata": {},
     "output_type": "execute_result"
    }
   ],
   "source": [
    "patch_cartcoor.min(), patch_cartcoor.max()"
   ]
  },
  {
   "cell_type": "code",
   "execution_count": 10,
   "metadata": {},
   "outputs": [],
   "source": [
    "patch_cartcoor[patch_cartcoor < -0.5] += 1\n",
    "patch_cartcoor[patch_cartcoor > 0.5] -= 1"
   ]
  },
  {
   "cell_type": "code",
   "execution_count": 11,
   "metadata": {},
   "outputs": [
    {
     "data": {
      "text/plain": [
       "(-0.4968490632361263, 0.4970474150685993)"
      ]
     },
     "execution_count": 11,
     "metadata": {},
     "output_type": "execute_result"
    }
   ],
   "source": [
    "patch_cartcoor.min(), patch_cartcoor.max()"
   ]
  },
  {
   "cell_type": "code",
   "execution_count": 12,
   "metadata": {},
   "outputs": [
    {
     "data": {
      "text/plain": [
       "array([[-2.24114742e-05, -8.34496802e-05, -2.24205942e-05],\n",
       "       [-2.24114742e-05, -8.34496802e-05, -2.14669199e-05],\n",
       "       [-2.24114742e-05, -8.34496802e-05, -2.05132456e-05],\n",
       "       ...,\n",
       "       [ 2.76718138e-02, -2.85911563e-01,  1.26724151e-02],\n",
       "       [ 2.76718138e-02, -2.85911563e-01,  2.04849151e-02],\n",
       "       [ 2.76718138e-02, -2.85911563e-01,  2.82974151e-02]])"
      ]
     },
     "execution_count": 12,
     "metadata": {},
     "output_type": "execute_result"
    }
   ],
   "source": []
  },
  {
   "cell_type": "code",
   "execution_count": null,
   "metadata": {},
   "outputs": [],
   "source": []
  }
 ],
 "metadata": {
  "kernelspec": {
   "display_name": "base",
   "language": "python",
   "name": "python3"
  },
  "language_info": {
   "codemirror_mode": {
    "name": "ipython",
    "version": 3
   },
   "file_extension": ".py",
   "mimetype": "text/x-python",
   "name": "python",
   "nbconvert_exporter": "python",
   "pygments_lexer": "ipython3",
   "version": "3.8.11"
  }
 },
 "nbformat": 4,
 "nbformat_minor": 2
}
