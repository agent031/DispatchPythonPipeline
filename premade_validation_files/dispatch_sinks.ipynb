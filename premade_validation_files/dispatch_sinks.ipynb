{
 "cells": [
  {
   "attachments": {},
   "cell_type": "markdown",
   "metadata": {
    "tags": []
   },
   "source": [
    "# Demo access to DISPATCH format ``stars.dat``  files\n",
    "Do NOT run and update this notebook itself (except when actually amending or improving it).   Instead, use the \"Duplicate\" option to make a copy, and use that to do visual validation."
   ]
  },
  {
   "cell_type": "code",
   "execution_count": 1,
   "metadata": {
    "collapsed": false,
    "jupyter": {
     "outputs_hidden": false
    }
   },
   "outputs": [
    {
     "name": "stdout",
     "output_type": "stream",
     "text": [
      "Populating the interactive namespace from numpy and matplotlib\n"
     ]
    }
   ],
   "source": [
    "%load_ext autoreload\n",
    "%autoreload 2\n",
    "%pylab inline"
   ]
  },
  {
   "attachments": {},
   "cell_type": "markdown",
   "metadata": {
    "tags": []
   },
   "source": [
    "### Standard Python startup"
   ]
  },
  {
   "cell_type": "code",
   "execution_count": 3,
   "metadata": {
    "collapsed": false,
    "jupyter": {
     "outputs_hidden": false
    }
   },
   "outputs": [],
   "source": [
    "top='/groups/astro/aake/codes/dispatch2/'            # aake\n",
    "#top='/groups/astro/xxxx/codes/dispatch2/'            # xxxx"
   ]
  },
  {
   "cell_type": "code",
   "execution_count": 42,
   "metadata": {},
   "outputs": [],
   "source": [
    "import sys\n",
    "sys.path.insert(0,top+'utilities/python')\n",
    "import dispatch\n",
    "from scipy.io import FortranFile as ff"
   ]
  },
  {
   "cell_type": "code",
   "execution_count": 43,
   "metadata": {},
   "outputs": [
    {
     "name": "stdout",
     "output_type": "stream",
     "text": [
      "working directory: /groups/astro/aake/codes/dispatch2/experiments/ISM/python\n"
     ]
    }
   ],
   "source": [
    "import os\n",
    "dir=top+'experiments/ISM/python'\n",
    "os.chdir(dir)\n",
    "print('working directory:',dir)"
   ]
  },
  {
   "attachments": {},
   "cell_type": "markdown",
   "metadata": {},
   "source": [
    "## Definition of Sinks() object"
   ]
  },
  {
   "cell_type": "code",
   "execution_count": 16,
   "metadata": {},
   "outputs": [],
   "source": [
    "class Record(object):\n",
    "  \"\"\" Template object for a file record \"\"\"\n",
    "  pass\n",
    "\n",
    "class Sinks(object):\n",
    "  \"\"\" Object with methods that can read DISPATCH and RAMSES stars.dat files,\n",
    "      returning a dictionary where the values are lists of sink records,\n",
    "      and the keys are the sink IDs\n",
    "  \"\"\"\n",
    "  def __init__(self,io=0,run='',data='../data/',file='stars.dat',iomax=1000,verbose=0):\n",
    "    \"\"\" Initial setup\n",
    "    \"\"\"\n",
    "    self.sinks={}\n",
    "    if io=='all':\n",
    "      ios=[]\n",
    "      for io in range(iomax):\n",
    "        filename=data+run+'/{:05d}/'.format(io)+file\n",
    "        if os.path.isfile(filename):\n",
    "          ios.append(io)\n",
    "      for io in ios:\n",
    "        self.read(io,run,data,file,verbose)\n",
    "    else:\n",
    "      self.read(io,run,data,file,verbose)\n",
    "    # Cache the available sink IDs\n",
    "    self.ids=list(self.sinks.keys())\n",
    "  \n",
    "  def read(self,io,run,data,file,verbose):\n",
    "    \"\"\" Read sinks for the interval starting with snaposhot io\n",
    "    \"\"\"\n",
    "    # Construct the filename and read the file format\n",
    "    self.filename=data+run+'/{:05d}/'.format(io)+file\n",
    "    with ff(self.filename) as fd:\n",
    "      fmt=fd.read_record('i4')[0]\n",
    "    self.format='RAMSES' if fmt>0 else 'DISPATCH'\n",
    "    if verbose>0:\n",
    "      print('reading',self.filename)\n",
    "      print('file format:',self.format)\n",
    "    \n",
    "    # Get a Fortran file object and read the file until the end    \n",
    "    with ff(self.filename) as fd:\n",
    "      try:\n",
    "        while (True):\n",
    "          if fmt>0:\n",
    "            self.read_ramses(fd,verbose=verbose)\n",
    "          else:\n",
    "            self.read_dispatch(fd,verbose=verbose)\n",
    "      except:\n",
    "        pass\n",
    "  \n",
    "  def read_dispatch(self,fd,verbose=0):\n",
    "    \"\"\" Read one snaphot of DISPATCH format sink data\n",
    "    \"\"\"\n",
    "    # Try reading DISPATCH format sinks\n",
    "    h=Record()\n",
    "    h.io_format,h.nstars,h.time,h.nmetal=fd.read_record('i4,i4,f8,i4')[0]\n",
    "    if verbose>1:\n",
    "      print('format:',h.io_format,' nstars:',h.nstars)\n",
    "\n",
    "    # If reading the header record worked, read the sink records\n",
    "    for i in range(h.nstars):\n",
    "      r=Record()\n",
    "      r.header=h\n",
    "      id,r.patch_id,r.level, \\\n",
    "      r.position,r.velocity,r.mass,r.rho,r.phi,r.dmdt,r.t_create,r.t_explode=\\\n",
    "        fd.read_record('i4,i4,i4,(3)f8,(3)f8,f8,f4,f4,f4,f8,f8')[0]\n",
    "      r.id=id-1\n",
    "      if verbose>1:\n",
    "        print('id:',r.id,' patch:',r.patch_id,' mass:',r.mass,' position:',r.position)\n",
    "      if not (r.id in self.sinks.keys()):\n",
    "        self.sinks[r.id]=[]\n",
    "      sink=self.sinks[r.id]\n",
    "      sink.append(r)\n",
    "  \n",
    "  def read_ramses(self,fd,verbose=0):\n",
    "    \"\"\" Read one snaphot of RAMSES format sink data\n",
    "    \"\"\"\n",
    "    # Read header records\n",
    "    h=Record()\n",
    "    h.io_format,h.nstars,h.time4,h.szstar,h.sizeof\\\n",
    "      =fd.read_record('i4,i4,f4,i4,i4')[0]\n",
    "    h.dp,h.nmetal,h.tflush,h.time=\\\n",
    "      fd.read_record('i4,i4,f8,f8')[0]\n",
    "    h.do_translate,h.center_star,h.r_translate,h.v_translate,h.x_refine,h.y_refine,h.z_refine\\\n",
    "        =fd.read_record('i4,i4,(3)f8,(3)f8,f8,f8,f8')[0]\n",
    "    h.do_translate=not h.do_translate==0\n",
    "    # FIXME\n",
    "    h.nstars=5\n",
    "    # Read sinks\n",
    "    for i in range(h.nstars):\n",
    "      r=Record()\n",
    "      r.id=i\n",
    "      r.header=h\n",
    "      r.x,r.y,r.z,r.px,r.py,r.pz,r.dpx,r.dpy,r.dpz,r.mass,\\\n",
    "        r.dmass,r.potential,r.density,r.t_create,r.t_explode,\\\n",
    "        r.gid,r.father,r.ilevel,r.old_ilevel,\\\n",
    "        r.owner,r.has_moved,r.beta_create,r.dtold\\\n",
    "        =fd.read_record('f8,f8,f8,f8,f8,f8,f8,f8,f8,f8,\\\n",
    "                        f8,f8,f8,f8,f8,\\\n",
    "                        i4,i4,i4,i4,\\\n",
    "                        i4,i4,f8,f8')[0]\n",
    "      if not (r.id in self.sinks.keys()):\n",
    "        self.sinks[r.id]=[]\n",
    "      sink=self.sinks[r.id]\n",
    "      sink.append(r)\n",
    "\n",
    "  def info(self,id=None):\n",
    "    print('file:',self.filename)\n",
    "    print('the file contains data for sinks',self.ids)\n",
    "    if id is None:\n",
    "      id=self.ids[0]\n",
    "    snaps=self.sinks[id]\n",
    "    print(\"the number of sink {} snapshots is {}\".format(id,len(snaps)))\n",
    "    sink=snaps[0]\n",
    "    print('sink attributes:')\n",
    "    for k,v in vars(sink).items():        # loop over attribues\n",
    "      print('{:>12s} : {}'.format(k,v))   # print name and value\n",
    "    print('sink.header attributes:')\n",
    "    header=sink.header\n",
    "    for k,v in vars(header).items():      # loop over header attribues\n",
    "      print('{:>12s} : {}'.format(k,v))   # print name and value\n"
   ]
  },
  {
   "cell_type": "code",
   "execution_count": 12,
   "metadata": {},
   "outputs": [
    {
     "name": "stdout",
     "output_type": "stream",
     "text": [
      "file: ../data/pp-test1-lv6/00012/stars.dat\n",
      "the file contains data for sinks [0, 1, 2, 3, 4]\n",
      "the number of sink 1 snapshots is 7\n",
      "sink attributes:\n",
      "      header : <__main__.Record object at 0x2b377bd1d700>\n",
      "    patch_id : 123\n",
      "       level : 6\n",
      "    position : [-0.10073959  0.29596209  0.30164576]\n",
      "    velocity : [-5.40825568 -4.67901768  0.30905386]\n",
      "        mass : 0.011840166562374289\n",
      "         rho : 0.0\n",
      "         phi : 0.0\n",
      "        dmdt : 0.0\n",
      "    t_create : 0.0\n",
      "   t_explode : 0.0\n",
      "          id : 1\n",
      "sink.header attributes:\n",
      "   io_format : -1\n",
      "      nstars : 5\n",
      "        time : 0.12067320055378168\n",
      "      nmetal : 0\n"
     ]
    }
   ],
   "source": [
    "S=Sinks(io=12,run='pp-test1-lv6',data='../data/')\n",
    "S.info(1)"
   ]
  },
  {
   "cell_type": "code",
   "execution_count": 17,
   "metadata": {},
   "outputs": [
    {
     "name": "stdout",
     "output_type": "stream",
     "text": [
      "file: ../data/pp-test1-lv6/00012/stars.dat\n",
      "the file contains data for sinks [0, 1, 2, 3, 4]\n",
      "the number of sink 1 snapshots is 7\n",
      "sink attributes:\n",
      "      header : <dispatch._sinks.Record object at 0x2b377c7c3250>\n",
      "sink.header attributes:\n",
      "    patch_id : 123\n",
      "sink.header attributes:\n",
      "       level : 6\n",
      "sink.header attributes:\n",
      "    position : [-0.10073959  0.29596209  0.30164576]\n",
      "sink.header attributes:\n",
      "    velocity : [-5.40825568 -4.67901768  0.30905386]\n",
      "sink.header attributes:\n",
      "        mass : 0.011840166562374289\n",
      "sink.header attributes:\n",
      "         rho : 0.0\n",
      "sink.header attributes:\n",
      "         phi : 0.0\n",
      "sink.header attributes:\n",
      "        dmdt : 0.0\n",
      "sink.header attributes:\n",
      "    t_create : 0.0\n",
      "sink.header attributes:\n",
      "   t_explode : 0.0\n",
      "sink.header attributes:\n",
      "          id : 1\n",
      "sink.header attributes:\n",
      "   io_format : -1\n",
      "      nstars : 5\n",
      "        time : 0.12067320055378168\n",
      "      nmetal : 0\n"
     ]
    }
   ],
   "source": [
    "S=dispatch.sinks(io=12,run='pp-test1-lv6',data='../data/')\n",
    "S.info(1)"
   ]
  },
  {
   "cell_type": "code",
   "execution_count": 76,
   "metadata": {},
   "outputs": [
    {
     "name": "stdout",
     "output_type": "stream",
     "text": [
      "file: ../data/pp-test1-lv6/00049/stars.dat\n",
      "the file contains data for sinks [0, 1, 2, 3, 4, 5]\n",
      "the number of sink 0 snapshots is 245\n",
      "sink attributes:\n",
      "      header : <__main__.Record object at 0x2af722af6d00>\n",
      "    patch_id : 25\n",
      "       level : 6\n",
      "    position : [-0.2578125  0.3046875 -0.3515625]\n",
      "    velocity : [0. 0. 0.]\n",
      "        mass : 0.00011894046269844694\n",
      "         rho : 0.0\n",
      "         phi : 0.0\n",
      "        dmdt : 0.0\n",
      "    t_create : 0.0\n",
      "   t_explode : 0.0\n",
      "          id : 0\n",
      "sink.header attributes:\n",
      "   io_format : -1\n",
      "      nstars : 1\n",
      "        time : 0.04884500585400099\n",
      "      nmetal : 0\n"
     ]
    }
   ],
   "source": [
    "S=dispatch.sinks(io='all',run='pp-test1-lv6',data='../data/')\n",
    "S.info()"
   ]
  },
  {
   "cell_type": "code",
   "execution_count": 77,
   "metadata": {},
   "outputs": [
    {
     "name": "stdout",
     "output_type": "stream",
     "text": [
      "file: ../data/vscode/00012/stars.dat\n",
      "the file contains data for sinks [0, 1, 2, 3, 4]\n",
      "the number of sink 0 snapshots is 6\n",
      "sink attributes:\n",
      "          id : 0\n",
      "      header : <__main__.Record object at 0x2af721c92a60>\n",
      "           x : -0.06446620798492012\n",
      "           y : 0.2792084597693634\n",
      "           z : -0.2649326829560591\n",
      "          px : 0.13602237680431783\n",
      "          py : -0.0786710206502615\n",
      "          pz : 0.11489372643582763\n",
      "         dpx : 0.0\n",
      "         dpy : 0.0\n",
      "         dpz : 0.0\n",
      "        mass : 0.0162134363700089\n",
      "       dmass : 0.0\n",
      "   potential : 0.0\n",
      "     density : 0.0\n",
      "    t_create : 0.0\n",
      "   t_explode : 0.0\n",
      "         gid : 0\n",
      "      father : 0\n",
      "      ilevel : 0\n",
      "  old_ilevel : 0\n",
      "       owner : 0\n",
      "   has_moved : 0\n",
      " beta_create : 0.0\n",
      "       dtold : 0.0\n",
      "sink.header attributes:\n",
      "   io_format : 9\n",
      "      nstars : 5\n",
      "       time4 : 0.12057817727327347\n",
      "      szstar : 0\n",
      "      sizeof : 0\n",
      "          dp : 8\n",
      "      nmetal : 0\n",
      "      tflush : 0.12\n",
      "        time : 0.12057817842856695\n",
      "do_translate : False\n",
      " center_star : 0\n",
      " r_translate : [0. 0. 0.]\n",
      " v_translate : [0. 0. 0.]\n",
      "    x_refine : 0.0\n",
      "    y_refine : 0.0\n",
      "    z_refine : 0.0\n"
     ]
    }
   ],
   "source": [
    "S=dispatch.sinks(io=12,run='vscode',data='../data/')\n",
    "S.info()"
   ]
  },
  {
   "cell_type": "code",
   "execution_count": 70,
   "metadata": {},
   "outputs": [
    {
     "name": "stdout",
     "output_type": "stream",
     "text": [
      "file: ../data/vscode/00058/stars.dat\n",
      "the file contains data for sinks [0, 1, 2, 3, 4]\n",
      "the number of sink 0 snapshots is 245\n",
      "sink attributes:\n",
      "          id : 0\n",
      "      header : <__main__.Record object at 0x2af721b264c0>\n",
      "           x : -0.2578125\n",
      "           y : 0.3046875\n",
      "           z : -0.3515625\n",
      "          px : 0.0\n",
      "          py : 0.0\n",
      "          pz : 0.0\n",
      "         dpx : 0.0\n",
      "         dpy : 0.0\n",
      "         dpz : 0.0\n",
      "        mass : 0.00011842990501342854\n",
      "       dmass : 0.0\n",
      "   potential : 0.0\n",
      "     density : 0.0\n",
      "    t_create : 0.0\n",
      "   t_explode : 0.0\n",
      "         gid : 0\n",
      "      father : 0\n",
      "      ilevel : 0\n",
      "  old_ilevel : 0\n",
      "       owner : 0\n",
      "   has_moved : 0\n",
      " beta_create : 0.0\n",
      "       dtold : 0.0\n",
      "sink.header attributes:\n",
      "   io_format : 9\n",
      "      nstars : 5\n",
      "       time4 : 0.04886363074183464\n",
      "      szstar : 0\n",
      "      sizeof : 0\n",
      "          dp : 8\n",
      "      nmetal : 0\n",
      "      tflush : 0.0\n",
      "        time : 0.0488636295220076\n",
      "do_translate : False\n",
      " center_star : 0\n",
      " r_translate : [0. 0. 0.]\n",
      " v_translate : [0. 0. 0.]\n",
      "    x_refine : 0.0\n",
      "    y_refine : 0.0\n",
      "    z_refine : 0.0\n"
     ]
    }
   ],
   "source": [
    "S=dispatch.sinks(io='all',run='vscode',data='../data/')\n",
    "S.info()"
   ]
  },
  {
   "cell_type": "code",
   "execution_count": 44,
   "metadata": {},
   "outputs": [
    {
     "name": "stdout",
     "output_type": "stream",
     "text": [
      "file: ../data/vscode/00012/stars.dat\n",
      "the file contains data for sinks [0, 1, 2, 3, 4]\n",
      "the number of sink 0 snapshots is 6\n",
      "sink attributes:\n",
      "          id : 0\n",
      "sink.header attributes:\n",
      "        time : 0.12057817842856695\n",
      "sink.header attributes:\n",
      "      header : <dispatch._sinks.Record object at 0x2b377ccf4310>\n",
      "sink.header attributes:\n",
      "           x : -0.06446620798492012\n",
      "sink.header attributes:\n",
      "           y : 0.2792084597693634\n",
      "sink.header attributes:\n",
      "           z : -0.2649326829560591\n",
      "sink.header attributes:\n",
      "          px : 0.13602237680431783\n",
      "sink.header attributes:\n",
      "          py : -0.0786710206502615\n",
      "sink.header attributes:\n",
      "          pz : 0.11489372643582763\n",
      "sink.header attributes:\n",
      "         dpx : 0.0\n",
      "sink.header attributes:\n",
      "         dpy : 0.0\n",
      "sink.header attributes:\n",
      "         dpz : 0.0\n",
      "sink.header attributes:\n",
      "        mass : 0.0162134363700089\n",
      "sink.header attributes:\n",
      "       dmass : 0.0\n",
      "sink.header attributes:\n",
      "   potential : 0.0\n",
      "sink.header attributes:\n",
      "     density : 0.0\n",
      "sink.header attributes:\n",
      "    t_create : 0.0\n",
      "sink.header attributes:\n",
      "   t_explode : 0.0\n",
      "sink.header attributes:\n",
      "         gid : 0\n",
      "sink.header attributes:\n",
      "      father : 0\n",
      "sink.header attributes:\n",
      "      ilevel : 0\n",
      "sink.header attributes:\n",
      "  old_ilevel : 0\n",
      "sink.header attributes:\n",
      "       owner : 0\n",
      "sink.header attributes:\n",
      "   has_moved : 0\n",
      "sink.header attributes:\n",
      " beta_create : 0.0\n",
      "sink.header attributes:\n",
      "       dtold : 0.0\n",
      "sink.header attributes:\n",
      "    position : [-0.06446621  0.27920846 -0.26493268]\n",
      "sink.header attributes:\n",
      "   io_format : 9\n",
      "      nstars : 5\n",
      "       time4 : 0.12057817727327347\n",
      "      szstar : 0\n",
      "      sizeof : 0\n",
      "          dp : 8\n",
      "      nmetal : 0\n",
      "      tflush : 0.12\n",
      "        time : 0.12057817842856695\n",
      "do_translate : False\n",
      " center_star : 0\n",
      " r_translate : [0. 0. 0.]\n",
      " v_translate : [0. 0. 0.]\n",
      "    x_refine : 0.0\n",
      "    y_refine : 0.0\n",
      "    z_refine : 0.0\n"
     ]
    }
   ],
   "source": [
    "sn=dispatch.snapshot(12,'vscode')\n",
    "sn.sinks.info()"
   ]
  },
  {
   "cell_type": "code",
   "execution_count": 45,
   "metadata": {},
   "outputs": [
    {
     "name": "stdout",
     "output_type": "stream",
     "text": [
      "0.12057817842856695 [-0.07730751  0.3136274   0.29809725]\n",
      "0.12057817842856695 [-0.07730751  0.3136274   0.29809725]\n",
      "0.1228312972273877 [-0.08767321  0.3049681   0.29829055]\n",
      "0.12513707890057912 [-0.098073    0.29575443  0.29814295]\n",
      "0.1264296947393415 [-0.10846607  0.28597196  0.29761298]\n",
      "0.12846795691669458 [-0.11880188  0.27561466  0.29664139]\n"
     ]
    }
   ],
   "source": [
    "sink_snapshots=sn.sinks.snapshots[1]\n",
    "sink_snapshots[0].position\n",
    "vars(sink_snapshots[0])\n",
    "for s in sink_snapshots:\n",
    "  print(s.time,s.position)"
   ]
  },
  {
   "cell_type": "code",
   "execution_count": null,
   "metadata": {},
   "outputs": [],
   "source": []
  }
 ],
 "metadata": {
  "kernelspec": {
   "display_name": "Python 3 (ipykernel)",
   "language": "python",
   "name": "python3"
  },
  "language_info": {
   "codemirror_mode": {
    "name": "ipython",
    "version": 3
   },
   "file_extension": ".py",
   "mimetype": "text/x-python",
   "name": "python",
   "nbconvert_exporter": "python",
   "pygments_lexer": "ipython3",
   "version": "3.8.16"
  },
  "toc-autonumbering": false,
  "vscode": {
   "interpreter": {
    "hash": "926b4a5dfa11be4b7eff4b3e16b0a6c4aba97fdc08a97fde44133418dfd29264"
   }
  }
 },
 "nbformat": 4,
 "nbformat_minor": 4
}
