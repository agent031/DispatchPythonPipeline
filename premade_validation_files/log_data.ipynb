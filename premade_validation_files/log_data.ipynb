{
 "cells": [
  {
   "cell_type": "markdown",
   "metadata": {},
   "source": [
    "# Harvesting log file metadata"
   ]
  },
  {
   "cell_type": "markdown",
   "metadata": {
    "tags": []
   },
   "source": [
    "[ Do NOT run and update this notebook itself (except when actually amending or improving it).   Instead, use the \"Duplicate\" option to make a copy, and use that to do visual validation. ]"
   ]
  },
  {
   "cell_type": "markdown",
   "metadata": {
    "tags": []
   },
   "source": [
    "## Standard startup"
   ]
  },
  {
   "cell_type": "code",
   "execution_count": 1,
   "metadata": {
    "collapsed": false,
    "jupyter": {
     "outputs_hidden": false
    }
   },
   "outputs": [
    {
     "name": "stdout",
     "output_type": "stream",
     "text": [
      "Populating the interactive namespace from numpy and matplotlib\n"
     ]
    }
   ],
   "source": [
    "%load_ext autoreload\n",
    "%autoreload 2\n",
    "%pylab inline"
   ]
  },
  {
   "cell_type": "code",
   "execution_count": 2,
   "metadata": {
    "collapsed": false,
    "jupyter": {
     "outputs_hidden": false
    }
   },
   "outputs": [],
   "source": [
    "top='/groups/astro/aake/codes/dispatch2/'            # aake\n",
    "#top='/groups/astro/xxxx/codes/dispatch2/'                  # xxxx"
   ]
  },
  {
   "cell_type": "code",
   "execution_count": 3,
   "metadata": {},
   "outputs": [],
   "source": [
    "import os\n",
    "os.chdir(top+'experiments/ISM/python')\n",
    "import sys\n",
    "sys.path.insert(0,top+'utilities/python')\n",
    "import dispatch as dis"
   ]
  },
  {
   "cell_type": "markdown",
   "metadata": {},
   "source": [
    "## Accessing tagged metadata in rank log files"
   ]
  },
  {
   "cell_type": "code",
   "execution_count": 4,
   "metadata": {},
   "outputs": [
    {
     "name": "stdout",
     "output_type": "stream",
     "text": [
      "syntax: logdata(run,tag,[col0,col1,...]{,file='filename'})\n"
     ]
    }
   ],
   "source": [
    "dis.logdata()"
   ]
  },
  {
   "cell_type": "markdown",
   "metadata": {},
   "source": [
    "Giving either a (run,tag) argument or a (file='filename',tag='some_tag') argument, one gets a sample line with enumerated columns to choose from:"
   ]
  },
  {
   "cell_type": "code",
   "execution_count": 5,
   "metadata": {},
   "outputs": [
    {
     "name": "stdout",
     "output_type": "stream",
     "text": [
      "sink_t%accrete: id,nm,time,rpos,vel,m,dmdt,d_max =   1517   174  8.5165E-07  -0.406  -0.031  -0.781     0.000   0.000   0.000    0.00E+00  0.00E+00  1.01E+09\n",
      "              0                                1 2      3     4           5       6       7       8         9      10      11          12        13        14 \n",
      "syntax: logdata(run,tag,[col0,col1,...]{,file='filename'})\n"
     ]
    }
   ],
   "source": [
    "dis.logdata('tmp1','sink_t%accrete:')"
   ]
  },
  {
   "cell_type": "code",
   "execution_count": 6,
   "metadata": {},
   "outputs": [
    {
     "name": "stdout",
     "output_type": "stream",
     "text": [
      "sink_t%accrete: id,nm,time,rpos,vel,m,dmdt,d_max =   1517   174  8.5165E-07  -0.406  -0.031  -0.781     0.000   0.000   0.000    0.00E+00  0.00E+00  1.01E+09\n",
      "              0                                1 2      3     4           5       6       7       8         9      10      11          12        13        14 \n",
      "syntax: logdata(run,tag,[col0,col1,...]{,file='filename'})\n"
     ]
    }
   ],
   "source": [
    "dis.logdata(file='../data/tmp1/rank_00000.log',tag='sink_t%accrete:')"
   ]
  },
  {
   "cell_type": "markdown",
   "metadata": {},
   "source": [
    "Add a columns argument, and the procedure returns a result with shape (n_col,n_row)"
   ]
  },
  {
   "cell_type": "code",
   "execution_count": 7,
   "metadata": {},
   "outputs": [
    {
     "data": {
      "text/plain": [
       "(5, 18472)"
      ]
     },
     "execution_count": 7,
     "metadata": {},
     "output_type": "execute_result"
    }
   ],
   "source": [
    "r=dis.logdata('tmp1','sink_t%accrete:',[3,5,12,13,14])\n",
    "r.shape"
   ]
  },
  {
   "cell_type": "markdown",
   "metadata": {},
   "source": [
    "Here's how to select only the rows where the 0th columns has a certain value:"
   ]
  },
  {
   "cell_type": "code",
   "execution_count": 8,
   "metadata": {},
   "outputs": [],
   "source": [
    "w=where(r[0]==1853.)\n",
    "t,m,dm,d=r[1:,w].squeeze()"
   ]
  },
  {
   "cell_type": "markdown",
   "metadata": {},
   "source": [
    "Scaling parameters are available in snapshot attributes:"
   ]
  },
  {
   "cell_type": "code",
   "execution_count": 9,
   "metadata": {},
   "outputs": [],
   "source": [
    "sn=dis.snapshot(223,'tmp1')\n",
    "scaling_msun=sn.scaling.m/sn.cgs.m_sun\n",
    "scaling_yr=sn.scaling.t/sn.cgs.yr\n",
    "scaling_dmdt=scaling_msun/scaling_yr"
   ]
  },
  {
   "cell_type": "code",
   "execution_count": 10,
   "metadata": {},
   "outputs": [
    {
     "data": {
      "image/png": "[encoded data removed]",
      "text/plain": [
       "<Figure size 432x288 with 1 Axes>"
      ]
     },
     "metadata": {
      "needs_background": "light"
     },
     "output_type": "display_data"
    }
   ],
   "source": [
    "semilogy(t*scaling_yr,m*scaling_msun); xlabel('t [yr]'); ylabel('M [solar]');"
   ]
  },
  {
   "cell_type": "code",
   "execution_count": 11,
   "metadata": {},
   "outputs": [
    {
     "data": {
      "image/png": "[encoded data removed]",
      "text/plain": [
       "<Figure size 432x288 with 1 Axes>"
      ]
     },
     "metadata": {
      "needs_background": "light"
     },
     "output_type": "display_data"
    }
   ],
   "source": [
    "semilogy(t*scaling_yr,dm*scaling_dmdt); xlabel('t [yr]'); ylabel('dM/dt [solar/yr]');"
   ]
  },
  {
   "cell_type": "code",
   "execution_count": 12,
   "metadata": {},
   "outputs": [
    {
     "data": {
      "image/png": "[encoded data removed]",
      "text/plain": [
       "<Figure size 432x288 with 1 Axes>"
      ]
     },
     "metadata": {
      "needs_background": "light"
     },
     "output_type": "display_data"
    }
   ],
   "source": [
    "semilogy(t*scaling_yr,d*sn.scaling.d); xlabel('t [yr]'); ylabel('rho [CGS]');"
   ]
  },
  {
   "cell_type": "code",
   "execution_count": null,
   "metadata": {},
   "outputs": [],
   "source": []
  }
 ],
 "metadata": {
  "kernelspec": {
   "display_name": "Python 3 (ipykernel)",
   "language": "python",
   "name": "python3"
  },
  "language_info": {
   "codemirror_mode": {
    "name": "ipython",
    "version": 3
   },
   "file_extension": ".py",
   "mimetype": "text/x-python",
   "name": "python",
   "nbconvert_exporter": "python",
   "pygments_lexer": "ipython3",
   "version": "3.8.13"
  },
  "toc-autonumbering": false,
  "vscode": {
   "interpreter": {
    "hash": "926b4a5dfa11be4b7eff4b3e16b0a6c4aba97fdc08a97fde44133418dfd29264"
   }
  }
 },
 "nbformat": 4,
 "nbformat_minor": 4
}
