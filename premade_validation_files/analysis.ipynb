{
 "cells": [
  {
   "cell_type": "markdown",
   "metadata": {},
   "source": [
    "# Harvesting log file metadata"
   ]
  },
  {
   "cell_type": "markdown",
   "metadata": {
    "tags": []
   },
   "source": [
    "[ Do NOT run and update this notebook itself (except when actually amending or improving it).   Instead, use the \"Duplicate\" option to make a copy, and use that to do visual validation. ]"
   ]
  },
  {
   "cell_type": "markdown",
   "metadata": {
    "tags": []
   },
   "source": [
    "## Standard startup"
   ]
  },
  {
   "cell_type": "code",
   "execution_count": 1,
   "metadata": {
    "collapsed": false,
    "jupyter": {
     "outputs_hidden": false
    }
   },
   "outputs": [
    {
     "name": "stdout",
     "output_type": "stream",
     "text": [
      "%pylab is deprecated, use %matplotlib inline and import the required libraries.\n",
      "Populating the interactive namespace from numpy and matplotlib\n"
     ]
    }
   ],
   "source": [
    "%load_ext autoreload\n",
    "%autoreload 2\n",
    "%pylab inline"
   ]
  },
  {
   "cell_type": "code",
   "execution_count": 2,
   "metadata": {
    "collapsed": false,
    "jupyter": {
     "outputs_hidden": false
    }
   },
   "outputs": [],
   "source": [
    "top='/groups/astro/buks/codes/dispatch2/'            # aake\n",
    "#top='/groups/astro/xxxx/codes/dispatch2/'                  # xxxx"
   ]
  },
  {
   "cell_type": "code",
   "execution_count": 8,
   "metadata": {},
   "outputs": [],
   "source": [
    "import os\n",
    "os.chdir(top+'experiments/ISM/python')\n",
    "import sys\n",
    "sys.path.insert(0,top+'utilities/python')\n",
    "import dispatch as dis\n",
    "import dispatch.graphics as dgr"
   ]
  },
  {
   "cell_type": "markdown",
   "metadata": {},
   "source": [
    "## Accessing tagged metadata in rank log files"
   ]
  },
  {
   "cell_type": "code",
   "execution_count": 4,
   "metadata": {},
   "outputs": [
    {
     "name": "stdout",
     "output_type": "stream",
     "text": [
      "syntax: logdata(run,tag,[col0,col1,...]{,file='filename'})\n"
     ]
    }
   ],
   "source": [
    "dis.logdata()"
   ]
  },
  {
   "cell_type": "markdown",
   "metadata": {},
   "source": [
    "Giving either a (run,tag) argument or a (file='filename',tag='some_tag') argument, one gets a sample line with enumerated columns to choose from:"
   ]
  },
  {
   "cell_type": "code",
   "execution_count": 5,
   "metadata": {},
   "outputs": [
    {
     "name": "stdout",
     "output_type": "stream",
     "text": [
      "sink_t%accrete: id,nm,time,rpos,vel,m,dmdt,d_max =   1517   174  8.5165E-07  -0.406  -0.031  -0.781     0.000   0.000   0.000    0.00E+00  0.00E+00  1.01E+09\n",
      "              0                                1 2      3     4           5       6       7       8         9      10      11          12        13        14 \n",
      "syntax: logdata(run,tag,[col0,col1,...]{,file='filename'})\n"
     ]
    }
   ],
   "source": [
    "dis.logdata('tmp1','sink_t%accrete:')"
   ]
  },
  {
   "cell_type": "code",
   "execution_count": 6,
   "metadata": {},
   "outputs": [
    {
     "name": "stdout",
     "output_type": "stream",
     "text": [
      "sink_t%accrete: id,nm,time,rpos,vel,m,dmdt,d_max =   1517   174  8.5165E-07  -0.406  -0.031  -0.781     0.000   0.000   0.000    0.00E+00  0.00E+00  1.01E+09\n",
      "              0                                1 2      3     4           5       6       7       8         9      10      11          12        13        14 \n",
      "syntax: logdata(run,tag,[col0,col1,...]{,file='filename'})\n"
     ]
    }
   ],
   "source": [
    "dis.logdata(file='../data/tmp1/rank_00000.log',tag='sink_t%accrete:')"
   ]
  },
  {
   "cell_type": "markdown",
   "metadata": {},
   "source": [
    "Add a columns argument, and the procedure returns a result with shape (n_col,n_row)"
   ]
  },
  {
   "cell_type": "code",
   "execution_count": 7,
   "metadata": {},
   "outputs": [
    {
     "data": {
      "text/plain": [
       "(5, 18472)"
      ]
     },
     "execution_count": 7,
     "metadata": {},
     "output_type": "execute_result"
    }
   ],
   "source": [
    "r=dis.logdata('tmp1','sink_t%accrete:',[3,5,12,13,14])\n",
    "r.shape"
   ]
  },
  {
   "cell_type": "markdown",
   "metadata": {},
   "source": [
    "Here's how to select only the rows where the 0th columns has a certain value:"
   ]
  },
  {
   "cell_type": "code",
   "execution_count": 8,
   "metadata": {},
   "outputs": [],
   "source": [
    "w=where(r[0]==1853.)\n",
    "t,m,dm,d=r[1:,w].squeeze()"
   ]
  },
  {
   "cell_type": "markdown",
   "metadata": {},
   "source": [
    "Scaling parameters are available in snapshot attributes:"
   ]
  },
  {
   "cell_type": "code",
   "execution_count": 9,
   "metadata": {},
   "outputs": [],
   "source": [
    "sn=dis.snapshot(223,'tmp1')\n",
    "scaling_msun=sn.scaling.m/sn.cgs.m_sun\n",
    "scaling_yr=sn.scaling.t/sn.cgs.yr\n",
    "scaling_dmdt=scaling_msun/scaling_yr"
   ]
  },
  {
   "cell_type": "code",
   "execution_count": 10,
   "metadata": {},
   "outputs": [
    {
     "data": {
      "image/png": "[encoded data removed]",
      "text/plain": [
       "<Figure size 432x288 with 1 Axes>"
      ]
     },
     "metadata": {
      "needs_background": "light"
     },
     "output_type": "display_data"
    }
   ],
   "source": [
    "semilogy(t*scaling_yr,m*scaling_msun); xlabel('t [yr]'); ylabel('M [solar]');"
   ]
  },
  {
   "cell_type": "code",
   "execution_count": 11,
   "metadata": {},
   "outputs": [
    {
     "data": {
      "image/png": "[encoded data removed]",
      "text/plain": [
       "<Figure size 432x288 with 1 Axes>"
      ]
     },
     "metadata": {
      "needs_background": "light"
     },
     "output_type": "display_data"
    }
   ],
   "source": [
    "semilogy(t*scaling_yr,dm*scaling_dmdt); xlabel('t [yr]'); ylabel('dM/dt [solar/yr]');"
   ]
  },
  {
   "cell_type": "code",
   "execution_count": 12,
   "metadata": {},
   "outputs": [
    {
     "data": {
      "image/png": "[encoded data removed]",
      "text/plain": [
       "<Figure size 432x288 with 1 Axes>"
      ]
     },
     "metadata": {
      "needs_background": "light"
     },
     "output_type": "display_data"
    }
   ],
   "source": [
    "semilogy(t*scaling_yr,d*sn.scaling.d); xlabel('t [yr]'); ylabel('rho [CGS]');"
   ]
  },
  {
   "cell_type": "code",
   "execution_count": 4,
   "metadata": {},
   "outputs": [],
   "source": [
    "sns={}\n",
    "sns[222]=dis.snapshot(222,'core_13',data='../../ramses_snapshots/data/')"
   ]
  },
  {
   "cell_type": "code",
   "execution_count": 6,
   "metadata": {},
   "outputs": [
    {
     "name": "stdout",
     "output_type": "stream",
     "text": [
      "directory ../data/sink_13/00232/ has no snapshot.nml file\n",
      "directory ../data/sink_13/00234/ does not exist\n",
      "directory ../data/sink_13/00236/ does not exist\n",
      "directory ../data/sink_13/00238/ does not exist\n",
      "directory ../data/sink_13/00240/ does not exist\n",
      "directory ../data/sink_13/00242/ does not exist\n",
      "directory ../data/sink_13/00244/ does not exist\n",
      "directory ../data/sink_13/00246/ does not exist\n",
      "directory ../data/sink_13/00248/ does not exist\n",
      "directory ../data/sink_13/00250/ does not exist\n",
      "directory ../data/sink_13/00252/ does not exist\n",
      "directory ../data/sink_13/00254/ does not exist\n",
      "directory ../data/sink_13/00256/ does not exist\n",
      "directory ../data/sink_13/00258/ does not exist\n"
     ]
    }
   ],
   "source": [
    "for io in range(224,259,2):\n",
    "    sn=dis.snapshot(io,'sink_13',data='../data')\n",
    "    sns[io]=sn"
   ]
  },
  {
   "cell_type": "code",
   "execution_count": 27,
   "metadata": {},
   "outputs": [
    {
     "data": {
      "image/png": "[encoded data removed]",
      "text/plain": [
       "<Figure size 2520x720 with 6 Axes>"
      ]
     },
     "metadata": {
      "needs_background": "light"
     },
     "output_type": "display_data"
    }
   ],
   "source": [
    "axis=2\n",
    "npix=128\n",
    "level=20\n",
    "w=npix*0.5**level\n",
    "color='red'\n",
    "value='logd'; title='log10(d)'; vv=[5,9]\n",
    "figure(figsize(35,10))\n",
    "i=0\n",
    "for io in range(222,234,4):\n",
    "    sn=sns[io]\n",
    "    c=sn.patchid[5].position\n",
    "    i+=1; subplot(2,5,i)\n",
    "    dgr.amr_plane(sn,value,center=c,axis=axis,width=w,lmax=20,mesh=1,ident=0,title=title,vmin=vv[0],vmax=vv[1])\n",
    "    if io>222:\n",
    "        if axis==0: plot(c[1],c[2],'o',color=color);    \n",
    "        if axis==1: plot(c[0],c[2],'o',color=color);\n",
    "        if axis==2: plot(c[0],c[1],'o',color=color);"
   ]
  },
  {
   "cell_type": "code",
   "execution_count": null,
   "metadata": {},
   "outputs": [],
   "source": []
  }
 ],
 "metadata": {
  "kernelspec": {
   "display_name": "Python 3.10.5 ('dispatch-py310')",
   "language": "python",
   "name": "python3"
  },
  "language_info": {
   "codemirror_mode": {
    "name": "ipython",
    "version": 3
   },
   "file_extension": ".py",
   "mimetype": "text/x-python",
   "name": "python",
   "nbconvert_exporter": "python",
   "pygments_lexer": "ipython3",
   "version": "3.10.5"
  },
  "toc-autonumbering": false,
  "vscode": {
   "interpreter": {
    "hash": "6233cd5f30e8d87fc990ef8f99692a8daa5ce4ec898bea6ba4a8afb58cc57433"
   }
  }
 },
 "nbformat": 4,
 "nbformat_minor": 4
}
